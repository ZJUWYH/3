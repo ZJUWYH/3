{
 "cells": [
  {
   "cell_type": "code",
   "execution_count": 1,
   "id": "036747ab",
   "metadata": {},
   "outputs": [],
   "source": [
    "from RUL_part import *"
   ]
  },
  {
   "cell_type": "code",
   "execution_count": 7,
   "id": "82f94e9d",
   "metadata": {},
   "outputs": [],
   "source": [
    "args_result = np.load('./numpy/arg_all_result041701.npy',allow_pickle=True).tolist()"
   ]
  },
  {
   "cell_type": "code",
   "execution_count": 8,
   "id": "e45b6993",
   "metadata": {},
   "outputs": [],
   "source": [
    "args_all = np.load('./numpy/arg_all_result041201_all.npy',allow_pickle=True).tolist()"
   ]
  },
  {
   "cell_type": "code",
   "execution_count": 9,
   "id": "bd0e339c",
   "metadata": {},
   "outputs": [
    {
     "data": {
      "text/plain": [
       "[[0.44,\n",
       "  array([[-0.02508065],\n",
       "         [ 0.09575333],\n",
       "         [ 0.27338721],\n",
       "         [ 0.09896038],\n",
       "         [ 0.19479786],\n",
       "         [ 0.04300773]]),\n",
       "  [array([[ 0.72499137],\n",
       "          [-1.02539741],\n",
       "          [ 4.40951562]]),\n",
       "   array([[ 0.04179118, -0.02421908, -0.14481797],\n",
       "          [-0.02421908,  0.18654081, -0.41949382],\n",
       "          [-0.14481797, -0.41949382,  4.35712958]]),\n",
       "   0.0816514819465024],\n",
       "  [array([[ 0.66981513],\n",
       "          [-0.84919019],\n",
       "          [ 4.52790925]]),\n",
       "   array([[ 0.04780613,  0.02586618, -0.19561599],\n",
       "          [ 0.02586618,  0.05484932, -0.28162375],\n",
       "          [-0.19561599, -0.28162375,  4.65160798]]),\n",
       "   0.09073206683410939],\n",
       "  [array([[ 0.43250104],\n",
       "          [-1.57763799],\n",
       "          [ 6.58755372]]),\n",
       "   array([[ 0.0482026 , -0.05787824, -0.20423986],\n",
       "          [-0.05787824,  0.60080199, -1.8793284 ],\n",
       "          [-0.20423986, -1.8793284 , 12.46804752]]),\n",
       "   0.0741279388699315],\n",
       "  [array([[-0.13057304],\n",
       "          [-1.01424122],\n",
       "          [ 7.17544533]]),\n",
       "   array([[ 0.10041947, -0.10450168, -0.28184245],\n",
       "          [-0.10450168,  0.4926106 , -1.34327032],\n",
       "          [-0.28184245, -1.34327032, 19.66812612]]),\n",
       "   0.018989116494734594],\n",
       "  [array([[ 0.35216804],\n",
       "          [-1.6463936 ],\n",
       "          [ 7.12810481]]),\n",
       "   array([[ 0.04790878, -0.06801249, -0.0565589 ],\n",
       "          [-0.06801249,  0.84260386, -2.47405096],\n",
       "          [-0.0565589 , -2.47405096, 14.93829684]]),\n",
       "   0.061805516563573595],\n",
       "  [array([[-0.19967442],\n",
       "          [-1.05191878],\n",
       "          [ 7.49019262]]),\n",
       "   array([[ 0.09067608, -0.09380184, -0.39730802],\n",
       "          [-0.09380184,  0.41234615, -1.12871677],\n",
       "          [-0.39730802, -1.12871677, 20.7013747 ]]),\n",
       "   0.016434941889457287],\n",
       "  [array([[ 0.21704858],\n",
       "          [-0.99274661],\n",
       "          [ 4.67937166]]),\n",
       "   array([[ 0.00828075,  0.0073662 , -0.09419675],\n",
       "          [ 0.0073662 ,  0.14334586, -0.73879646],\n",
       "          [-0.09419675, -0.73879646,  6.14136347]]),\n",
       "   0.009410969225563478]],\n",
       " [0.56,\n",
       "  array([[ 0.12336278],\n",
       "         [ 0.06601853],\n",
       "         [ 0.1367002 ],\n",
       "         [-0.10489446],\n",
       "         [ 0.1884198 ],\n",
       "         [-0.05232273]]),\n",
       "  [array([[ 0.79076819],\n",
       "          [-0.35332051],\n",
       "          [ 5.72204196]]),\n",
       "   array([[ 0.12207903, -0.04423443, -0.29325209],\n",
       "          [-0.04423443,  0.09738507,  0.18651491],\n",
       "          [-0.29325209,  0.18651491,  3.21176209]]),\n",
       "   0.06566436018014259],\n",
       "  [array([[0.77739828],\n",
       "          [0.25343491],\n",
       "          [3.62242777]]),\n",
       "   array([[ 0.11013937, -0.05326356, -0.30017755],\n",
       "          [-0.05326356,  0.15910868,  0.25538276],\n",
       "          [-0.30017755,  0.25538276,  1.0817262 ]]),\n",
       "   0.06525601924046663],\n",
       "  [array([[ 0.58281432],\n",
       "          [-0.39882591],\n",
       "          [ 7.05885076]]),\n",
       "   array([[ 0.10203757, -0.04733224, -0.3337196 ],\n",
       "          [-0.04733224,  0.22271977, -0.35774104],\n",
       "          [-0.3337196 , -0.35774104,  6.80504659]]),\n",
       "   0.04459018013466003],\n",
       "  [array([[-0.46273802],\n",
       "          [ 0.3747617 ],\n",
       "          [-7.59881613]]),\n",
       "   array([[ 0.05830832, -0.04326156, -0.10431368],\n",
       "          [-0.04326156,  0.18996514, -0.82981965],\n",
       "          [-0.10431368, -0.82981965, 12.40274523]]),\n",
       "   0.06430563025017616],\n",
       "  [array([[ 0.49594079],\n",
       "          [-0.50652249],\n",
       "          [ 7.6535416 ]]),\n",
       "   array([[ 0.0939481 , -0.03368485, -0.30953273],\n",
       "          [-0.03368485,  0.22178833, -0.60821736],\n",
       "          [-0.30953273, -0.60821736,  8.6475891 ]]),\n",
       "   0.035360919036881974],\n",
       "  [array([[-0.31371752],\n",
       "          [ 0.19873708],\n",
       "          [-7.92646617]]),\n",
       "   array([[ 0.05607803, -0.04594526, -0.17878395],\n",
       "          [-0.04594526,  0.14220309, -0.75429438],\n",
       "          [-0.17878395, -0.75429438, 14.23920664]]),\n",
       "   0.06319180740001869],\n",
       "  [array([[ 0.39161526],\n",
       "          [-0.33548006],\n",
       "          [ 4.91018926]]),\n",
       "   array([[ 0.01968375,  0.00438508, -0.09409441],\n",
       "          [ 0.00438508,  0.04789644, -0.21573058],\n",
       "          [-0.09409441, -0.21573058,  3.35813392]]),\n",
       "   0.0044753084953377716]]]"
      ]
     },
     "execution_count": 9,
     "metadata": {},
     "output_type": "execute_result"
    }
   ],
   "source": [
    "args_result"
   ]
  },
  {
   "cell_type": "code",
   "execution_count": 10,
   "id": "2ef0ebf3",
   "metadata": {},
   "outputs": [
    {
     "name": "stdout",
     "output_type": "stream",
     "text": [
      "25 75\n"
     ]
    }
   ],
   "source": [
    "mode_predict_result = [get_hat_rho_l(test_dataset[i],*args_result).reshape(2) for i in range(100)]\n",
    "mode_true = [test_dataset[i][\"mode\"] for i in range(100)]\n",
    "corr = 0\n",
    "err = 0\n",
    "for i in range(100):\n",
    "    if np.sum(abs(mode_predict_result[i] - mode_true [i])) < 1:\n",
    "        corr+=1\n",
    "    else:\n",
    "        err+=1\n",
    "print(corr,err)"
   ]
  },
  {
   "cell_type": "code",
   "execution_count": 11,
   "id": "ecb4c8d4",
   "metadata": {},
   "outputs": [
    {
     "data": {
      "text/plain": [
       "[array([1., 0.]),\n",
       " array([0., 1.]),\n",
       " array([1., 0.]),\n",
       " array([9.69217142e-43, 1.00000000e+00]),\n",
       " array([9.13223113e-05, 9.99908678e-01]),\n",
       " array([0.9107043, 0.0892957]),\n",
       " array([0., 1.]),\n",
       " array([0., 1.]),\n",
       " array([0., 1.]),\n",
       " array([9.99999995e-01, 5.00763327e-09]),\n",
       " array([2.45674574e-08, 9.99999975e-01]),\n",
       " array([0., 1.]),\n",
       " array([5.17030171e-08, 9.99999948e-01]),\n",
       " array([0., 1.]),\n",
       " array([1., 0.]),\n",
       " array([1., 0.]),\n",
       " array([1., 0.]),\n",
       " array([1., 0.]),\n",
       " array([1., 0.]),\n",
       " array([1., 0.]),\n",
       " array([1., 0.]),\n",
       " array([1., 0.]),\n",
       " array([1., 0.]),\n",
       " array([1., 0.]),\n",
       " array([0., 1.]),\n",
       " array([0., 1.]),\n",
       " array([1., 0.]),\n",
       " array([1., 0.]),\n",
       " array([1.58928165e-19, 1.00000000e+00]),\n",
       " array([1., 0.]),\n",
       " array([1., 0.]),\n",
       " array([5.29425351e-09, 9.99999995e-01]),\n",
       " array([2.2228063e-32, 1.0000000e+00]),\n",
       " array([0., 1.]),\n",
       " array([1., 0.]),\n",
       " array([1.00000000e+00, 1.49116061e-27]),\n",
       " array([1.00000000e+00, 3.28118488e-32]),\n",
       " array([0., 1.]),\n",
       " array([1., 0.]),\n",
       " array([1., 0.]),\n",
       " array([1., 0.]),\n",
       " array([0., 1.]),\n",
       " array([1., 0.]),\n",
       " array([0., 1.]),\n",
       " array([1., 0.]),\n",
       " array([1., 0.]),\n",
       " array([9.99697907e-01, 3.02092970e-04]),\n",
       " array([0., 1.]),\n",
       " array([1., 0.]),\n",
       " array([0., 1.]),\n",
       " array([9.99999973e-01, 2.74603719e-08]),\n",
       " array([1.00000000e+00, 3.82872735e-10]),\n",
       " array([1.00000000e+00, 1.90247334e-17]),\n",
       " array([9.99960798e-01, 3.92020260e-05]),\n",
       " array([0., 1.]),\n",
       " array([1., 0.]),\n",
       " array([7.82772195e-41, 1.00000000e+00]),\n",
       " array([4.25442398e-37, 1.00000000e+00]),\n",
       " array([1., 0.]),\n",
       " array([4.55842771e-16, 1.00000000e+00]),\n",
       " array([1., 0.]),\n",
       " array([1., 0.]),\n",
       " array([1., 0.]),\n",
       " array([1., 0.]),\n",
       " array([1., 0.]),\n",
       " array([0., 1.]),\n",
       " array([1., 0.]),\n",
       " array([1., 0.]),\n",
       " array([1., 0.]),\n",
       " array([1.08853730e-07, 9.99999891e-01]),\n",
       " array([1., 0.]),\n",
       " array([1., 0.]),\n",
       " array([1., 0.]),\n",
       " array([1., 0.]),\n",
       " array([1., 0.]),\n",
       " array([0., 1.]),\n",
       " array([1., 0.]),\n",
       " array([1., 0.]),\n",
       " array([0., 1.]),\n",
       " array([0., 1.]),\n",
       " array([1., 0.]),\n",
       " array([1., 0.]),\n",
       " array([1., 0.]),\n",
       " array([1.00000000e+00, 6.43363527e-13]),\n",
       " array([1., 0.]),\n",
       " array([0., 1.]),\n",
       " array([1., 0.]),\n",
       " array([1.00000000e+00, 6.13712926e-11]),\n",
       " array([1., 0.]),\n",
       " array([2.59062561e-21, 1.00000000e+00]),\n",
       " array([0.48297196, 0.51702804]),\n",
       " array([1., 0.]),\n",
       " array([1., 0.]),\n",
       " array([1., 0.]),\n",
       " array([1., 0.]),\n",
       " array([1., 0.]),\n",
       " array([1., 0.]),\n",
       " array([0., 1.]),\n",
       " array([1., 0.]),\n",
       " array([1., 0.])]"
      ]
     },
     "execution_count": 11,
     "metadata": {},
     "output_type": "execute_result"
    }
   ],
   "source": [
    "mode_predict_result"
   ]
  },
  {
   "cell_type": "code",
   "execution_count": 62,
   "id": "76dc6b37",
   "metadata": {},
   "outputs": [
    {
     "name": "stderr",
     "output_type": "stream",
     "text": [
      "100%|████████████████████████████████████████████████████████████████████████████████| 100/100 [00:33<00:00,  2.97it/s]\n"
     ]
    }
   ],
   "source": [
    "RUL_hat = get_RUL(test_dataset,[1,1],*args_all)"
   ]
  },
  {
   "cell_type": "code",
   "execution_count": 63,
   "id": "23c36bdf",
   "metadata": {},
   "outputs": [
    {
     "data": {
      "text/plain": [
       "array([ 54,  53,  44, 108,   1, 116,  56,  56,  53, 129,  91, 105, 110,\n",
       "        34, 102,  61, 241, 169, 140,  78,  21, 142, 116,  11,  59,   8,\n",
       "       135, 145, 113,  89, 161,  88,  83,  80, 109, 139, 192,  25,   1,\n",
       "        53, 121, 119, 154,  65, 149,   8, 226,  76, 265,  16, 127, 243,\n",
       "       101, 224,  56, 161, 106,  42, 104, 123, 145,  62, 201,  26, 144,\n",
       "       121, 112, 185, 201,  77,  48,  58, 146, 176,  48,  16, 107,  26,\n",
       "        22, 500,  18,  12, 185, 145,  67,  36, 194, 229,  58,  60, 115,\n",
       "        17,  79,  14, 145, 165, 147,  36,   7,  25])"
      ]
     },
     "execution_count": 63,
     "metadata": {},
     "output_type": "execute_result"
    }
   ],
   "source": [
    "RUL_hat"
   ]
  },
  {
   "cell_type": "code",
   "execution_count": 64,
   "id": "e434a825",
   "metadata": {},
   "outputs": [
    {
     "data": {
      "text/plain": [
       "array([ 44,  51,  27, 120, 101,  99,  71,  55,  55,  66,  77, 115, 115,\n",
       "        31, 108,  56, 136, 132,  85,  56,  18, 119,  78,   9,  58,  11,\n",
       "        88, 144, 124,  89,  79,  55,  71,  65,  87, 137, 145,  22,   8,\n",
       "        41, 131, 115, 128,  69, 111,   7, 137,  55, 135,  11,  78, 120,\n",
       "        87,  87,  55,  93,  88,  40,  49, 128, 129,  58, 117,  28, 115,\n",
       "        87,  92, 103, 100,  63,  35,  45,  99, 117,  45,  27,  86,  20,\n",
       "        18, 133,  15,   6, 145, 104,  56,  25,  68, 144,  41,  51,  81,\n",
       "        14,  67,  10, 127, 113, 123,  17,   8,  28], dtype=int64)"
      ]
     },
     "execution_count": 64,
     "metadata": {},
     "output_type": "execute_result"
    }
   ],
   "source": [
    "#RUL\n",
    "path = DATA_PATH+'RUL.csv'\n",
    "RUL_frame = pd.read_csv(path, header=None)\n",
    "RUL = RUL_frame.values[:, 0]\n",
    "RUL"
   ]
  },
  {
   "cell_type": "code",
   "execution_count": 65,
   "id": "131a53a4",
   "metadata": {},
   "outputs": [
    {
     "data": {
      "text/plain": [
       "3114"
      ]
     },
     "execution_count": 65,
     "metadata": {},
     "output_type": "execute_result"
    }
   ],
   "source": [
    "np.sum(abs(RUL_hat-RUL))"
   ]
  },
  {
   "cell_type": "code",
   "execution_count": 25,
   "id": "5376a4eb",
   "metadata": {},
   "outputs": [
    {
     "data": {
      "text/plain": [
       "[array([0., 1.]),\n",
       " array([1., 0.]),\n",
       " array([0., 1.]),\n",
       " array([1., 0.]),\n",
       " array([0., 1.]),\n",
       " array([1., 0.]),\n",
       " array([1., 0.]),\n",
       " array([1., 0.]),\n",
       " array([1., 0.]),\n",
       " array([1., 0.]),\n",
       " array([1., 0.]),\n",
       " array([1., 0.]),\n",
       " array([1., 0.]),\n",
       " array([1., 0.]),\n",
       " array([0., 1.]),\n",
       " array([0., 1.]),\n",
       " array([0., 1.]),\n",
       " array([0., 1.]),\n",
       " array([1., 0.]),\n",
       " array([0., 1.]),\n",
       " array([0., 1.]),\n",
       " array([0., 1.]),\n",
       " array([0., 1.]),\n",
       " array([0., 1.]),\n",
       " array([1., 0.]),\n",
       " array([1., 0.]),\n",
       " array([0., 1.]),\n",
       " array([1., 0.]),\n",
       " array([1., 0.]),\n",
       " array([0., 1.]),\n",
       " array([1., 0.]),\n",
       " array([1., 0.]),\n",
       " array([1., 0.]),\n",
       " array([1., 0.]),\n",
       " array([0., 1.]),\n",
       " array([1., 0.]),\n",
       " array([1., 0.]),\n",
       " array([1., 0.]),\n",
       " array([0., 1.]),\n",
       " array([0., 1.]),\n",
       " array([0., 1.]),\n",
       " array([1., 0.]),\n",
       " array([0., 1.]),\n",
       " array([1., 0.]),\n",
       " array([1., 0.]),\n",
       " array([0., 1.]),\n",
       " array([1., 0.]),\n",
       " array([1., 0.]),\n",
       " array([0., 1.]),\n",
       " array([1., 0.]),\n",
       " array([1., 0.]),\n",
       " array([1., 0.]),\n",
       " array([1., 0.]),\n",
       " array([1., 0.]),\n",
       " array([1., 0.]),\n",
       " array([1., 0.]),\n",
       " array([1., 0.]),\n",
       " array([1., 0.]),\n",
       " array([1., 0.]),\n",
       " array([1., 0.]),\n",
       " array([0., 1.]),\n",
       " array([0., 1.]),\n",
       " array([0., 1.]),\n",
       " array([0., 1.]),\n",
       " array([1., 0.]),\n",
       " array([1., 0.]),\n",
       " array([0., 1.]),\n",
       " array([0., 1.]),\n",
       " array([1., 0.]),\n",
       " array([1., 0.]),\n",
       " array([0., 1.]),\n",
       " array([0., 1.]),\n",
       " array([1., 0.]),\n",
       " array([0., 1.]),\n",
       " array([0., 1.]),\n",
       " array([1., 0.]),\n",
       " array([0., 1.]),\n",
       " array([0., 1.]),\n",
       " array([1., 0.]),\n",
       " array([0., 1.]),\n",
       " array([0., 1.]),\n",
       " array([0., 1.]),\n",
       " array([1., 0.]),\n",
       " array([1., 0.]),\n",
       " array([0., 1.]),\n",
       " array([1., 0.]),\n",
       " array([1., 0.]),\n",
       " array([1., 0.]),\n",
       " array([0., 1.]),\n",
       " array([1., 0.]),\n",
       " array([1., 0.]),\n",
       " array([0., 1.]),\n",
       " array([0., 1.]),\n",
       " array([0., 1.]),\n",
       " array([0., 1.]),\n",
       " array([0., 1.]),\n",
       " array([1., 0.]),\n",
       " array([1., 0.]),\n",
       " array([0., 1.]),\n",
       " array([0., 1.])]"
      ]
     },
     "execution_count": 25,
     "metadata": {},
     "output_type": "execute_result"
    }
   ],
   "source": [
    "mode_true"
   ]
  },
  {
   "cell_type": "markdown",
   "id": "a2641716",
   "metadata": {},
   "source": [
    "# 第i个in_unit"
   ]
  },
  {
   "cell_type": "code",
   "execution_count": 26,
   "id": "b5dac9ae",
   "metadata": {},
   "outputs": [],
   "source": [
    "result_args_a = np.load('./numpy/arg_all_result041001_a.npy',allow_pickle=True).tolist()\n",
    "result_args_b = np.load('./numpy/arg_all_result041001_b.npy',allow_pickle=True).tolist()"
   ]
  },
  {
   "cell_type": "code",
   "execution_count": 88,
   "id": "8e3db853",
   "metadata": {},
   "outputs": [],
   "source": [
    "num_unit = 0"
   ]
  },
  {
   "cell_type": "code",
   "execution_count": 89,
   "id": "54fb8b77",
   "metadata": {},
   "outputs": [
    {
     "data": {
      "text/plain": [
       "0.0"
      ]
     },
     "execution_count": 89,
     "metadata": {},
     "output_type": "execute_result"
    }
   ],
   "source": [
    "np.sum(abs(mode_predict_result[num_unit] - mode_true[num_unit]))"
   ]
  },
  {
   "cell_type": "code",
   "execution_count": 90,
   "id": "1795217b",
   "metadata": {},
   "outputs": [
    {
     "data": {
      "text/plain": [
       "array([[0.],\n",
       "       [1.]])"
      ]
     },
     "execution_count": 90,
     "metadata": {},
     "output_type": "execute_result"
    }
   ],
   "source": [
    "get_hat_rho_l(test_dataset[num_unit],*args_all)"
   ]
  },
  {
   "cell_type": "code",
   "execution_count": 91,
   "id": "f7e251e1",
   "metadata": {},
   "outputs": [
    {
     "data": {
      "text/plain": [
       "[1,\n",
       " array([[-0.02509141],\n",
       "        [ 0.09571079],\n",
       "        [ 0.27344701],\n",
       "        [ 0.09867914],\n",
       "        [ 0.19479972],\n",
       "        [ 0.04330089]]),\n",
       " array([[ 0.21700034],\n",
       "        [-0.99262407],\n",
       "        [ 4.67928124]]),\n",
       " array([[ 0.00828274,  0.00736673, -0.09425388],\n",
       "        [ 0.00736673,  0.14315307, -0.73796303],\n",
       "        [-0.09425388, -0.73796303,  6.13910438]]),\n",
       " 0.009412568289573446]"
      ]
     },
     "execution_count": 91,
     "metadata": {},
     "output_type": "execute_result"
    }
   ],
   "source": [
    "mode_para_selection(test_dataset[num_unit],[1,1],*args_all)"
   ]
  },
  {
   "cell_type": "code",
   "execution_count": 76,
   "id": "30aa08a9",
   "metadata": {},
   "outputs": [
    {
     "data": {
      "text/plain": [
       "array([0., 1.])"
      ]
     },
     "execution_count": 76,
     "metadata": {},
     "output_type": "execute_result"
    }
   ],
   "source": [
    "test_dataset[num_unit][\"mode\"]"
   ]
  },
  {
   "cell_type": "code",
   "execution_count": 47,
   "id": "95b0e660",
   "metadata": {},
   "outputs": [],
   "source": [
    "hj = np.argmax(test_dataset[num_unit][\"mode\"])\n",
    "# 选取了第二个mode单独的参数\n",
    "selected_args = []\n",
    "args_q = [result_args_a,result_args_b][hj][0]\n",
    "# args_q = result_args_b[0]\n",
    "selected_args.append(1) # dk\n",
    "selected_args.append(args_q[1]) # wk\n",
    "#selected_args.appned(args_q[1])\n",
    "for idx in range(3):\n",
    "    selected_args.append(args_q[-1][idx])\n",
    "# 按照完整的流程计算参数\n",
    "selected_args_all = mode_para_selection(test_dataset[num_unit], [1,1], *args_result)"
   ]
  },
  {
   "cell_type": "code",
   "execution_count": 48,
   "id": "6a5eb57c",
   "metadata": {},
   "outputs": [
    {
     "data": {
      "text/plain": [
       "(500, 1, 101)"
      ]
     },
     "execution_count": 48,
     "metadata": {},
     "output_type": "execute_result"
    }
   ],
   "source": [
    "get_single_RUL(test_dataset[num_unit],*selected_args),get_single_RUL(test_dataset[num_unit],*selected_args_all),RUL[num_unit]"
   ]
  },
  {
   "cell_type": "markdown",
   "id": "ac7354f3",
   "metadata": {},
   "source": [
    "## 看下如果是单独算的效果"
   ]
  },
  {
   "cell_type": "code",
   "execution_count": 49,
   "id": "e21f7c84",
   "metadata": {},
   "outputs": [],
   "source": [
    "w = selected_args[1]\n",
    "mu_q, Sigma_q = get_post_Sigma_q_and_mu_q(test_dataset[num_unit], *selected_args)\n",
    "mu_q_ = selected_args[2]\n",
    "HI_q = test_dataset[num_unit][\"input\"] @ w"
   ]
  },
  {
   "cell_type": "code",
   "execution_count": 50,
   "id": "692cef5a",
   "metadata": {},
   "outputs": [],
   "source": [
    "Phi_q,time_axes = generate_Phi_and_timeaxes(300)"
   ]
  },
  {
   "cell_type": "code",
   "execution_count": 51,
   "id": "fb2ee5b3",
   "metadata": {},
   "outputs": [
    {
     "data": {
      "text/plain": [
       "[<matplotlib.lines.Line2D at 0x1df1faa93d0>]"
      ]
     },
     "execution_count": 51,
     "metadata": {},
     "output_type": "execute_result"
    },
    {
     "data": {
      "image/png": "[encoded data removed]",
      "text/plain": [
       "<Figure size 432x288 with 1 Axes>"
      ]
     },
     "metadata": {
      "needs_background": "light"
     },
     "output_type": "display_data"
    }
   ],
   "source": [
    "plt.plot(HI_q) \n",
    "plt.plot(Phi_q @ mu_q)\n",
    "#plt.plot(Phi_q @ mu_q_, color = \"r\")"
   ]
  },
  {
   "cell_type": "markdown",
   "id": "28b22bbd",
   "metadata": {},
   "source": [
    "## 看下一起算的效果"
   ]
  },
  {
   "cell_type": "code",
   "execution_count": 52,
   "id": "c21b6702",
   "metadata": {},
   "outputs": [],
   "source": [
    "w = selected_args_all[1]\n",
    "mu_q, Sigma_q = get_post_Sigma_q_and_mu_q(test_dataset[num_unit], *selected_args_all)\n",
    "mu_q_ = selected_args_all[2]\n",
    "HI_q = test_dataset[num_unit][\"input\"] @ w\n",
    "Phi_q,time_axes = generate_Phi_and_timeaxes(300)"
   ]
  },
  {
   "cell_type": "code",
   "execution_count": 53,
   "id": "76a7142d",
   "metadata": {},
   "outputs": [
    {
     "data": {
      "text/plain": [
       "[<matplotlib.lines.Line2D at 0x1df1fa02d90>]"
      ]
     },
     "execution_count": 53,
     "metadata": {},
     "output_type": "execute_result"
    },
    {
     "data": {
      "image/png": "[encoded data removed]",
      "text/plain": [
       "<Figure size 432x288 with 1 Axes>"
      ]
     },
     "metadata": {
      "needs_background": "light"
     },
     "output_type": "display_data"
    }
   ],
   "source": [
    "plt.plot(HI_q) \n",
    "plt.plot(Phi_q @ mu_q)\n",
    "plt.plot(Phi_q @ mu_q_, color = \"r\")"
   ]
  },
  {
   "cell_type": "markdown",
   "id": "aeb3c309",
   "metadata": {},
   "source": [
    "# 训练集的效果"
   ]
  },
  {
   "cell_type": "code",
   "execution_count": 43,
   "id": "b0e2271b",
   "metadata": {},
   "outputs": [],
   "source": [
    "num_unit = 34"
   ]
  },
  {
   "cell_type": "code",
   "execution_count": 44,
   "id": "3a46b19e",
   "metadata": {},
   "outputs": [
    {
     "data": {
      "text/plain": [
       "[<matplotlib.lines.Line2D at 0x1df1f868f40>]"
      ]
     },
     "execution_count": 44,
     "metadata": {},
     "output_type": "execute_result"
    },
    {
     "data": {
      "image/png": "[encoded data removed]",
      "text/plain": [
       "<Figure size 432x288 with 1 Axes>"
      ]
     },
     "metadata": {
      "needs_background": "light"
     },
     "output_type": "display_data"
    }
   ],
   "source": [
    "w = selected_args_all[1]\n",
    "mu_q, Sigma_q = get_post_Sigma_q_and_mu_q(train_dataset[num_unit], *selected_args_all)\n",
    "mu_q_ = selected_args_all[2]\n",
    "HI_q = train_dataset[num_unit][\"input\"] @ w\n",
    "Phi_q,time_axes = generate_Phi_and_timeaxes(300)\n",
    "plt.plot(HI_q) \n",
    "plt.plot(Phi_q @ mu_q)\n",
    "plt.plot(Phi_q @ mu_q_, color = \"r\")"
   ]
  },
  {
   "cell_type": "code",
   "execution_count": null,
   "id": "747779b0",
   "metadata": {},
   "outputs": [],
   "source": []
  },
  {
   "cell_type": "code",
   "execution_count": null,
   "id": "4b779071",
   "metadata": {},
   "outputs": [],
   "source": []
  }
 ],
 "metadata": {
  "kernelspec": {
   "display_name": "Python 3",
   "language": "python",
   "name": "python3"
  },
  "language_info": {
   "codemirror_mode": {
    "name": "ipython",
    "version": 3
   },
   "file_extension": ".py",
   "mimetype": "text/x-python",
   "name": "python",
   "nbconvert_exporter": "python",
   "pygments_lexer": "ipython3",
   "version": "3.8.8"
  }
 },
 "nbformat": 4,
 "nbformat_minor": 5
}
