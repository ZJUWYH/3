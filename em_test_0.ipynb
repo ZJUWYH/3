{
 "cells": [
  {
   "cell_type": "code",
   "execution_count": 1,
   "id": "79c58e6b",
   "metadata": {},
   "outputs": [],
   "source": [
    "import os\n",
    "import warnings\n",
    "import numpy as np\n",
    "import pandas as pd\n",
    "import seaborn as sns\n",
    "import matplotlib.pyplot as plt\n",
    "import torch\n",
    "from torch.utils.data import Dataset\n",
    "from tqdm.notebook import tqdm\n",
    "from collections import Counter\n",
    "import torch.nn as nn\n",
    "import gc\n",
    "import time\n",
    "import torch\n",
    "import numpy as np\n",
    "from torch.utils.data import DataLoader\n",
    "from transformers import get_linear_schedule_with_warmup\n",
    "from utilities import *\n",
    "from sklearn.cluster import KMeans"
   ]
  },
  {
   "cell_type": "code",
   "execution_count": 2,
   "id": "705c1dde",
   "metadata": {},
   "outputs": [],
   "source": [
    "DATA_PATH = \"./Data_FD003/preprocessed data/\"\n",
    "attribute = ['Unit', 'T24', 'T30', 'T50', 'P30', 'Nf', 'Nc', 'Ps30',\n",
    "             'phi', 'NRf', 'NRc', 'BPR', 'htBleed', 'W31', 'W32']\n",
    "df_train = pd.read_csv(DATA_PATH + 'TD_data.csv', names=attribute, header=None)\n",
    "df_test = pd.read_csv(DATA_PATH + 'Test_data.csv', names=attribute, header=None)\n",
    "\n",
    "df_train = Preprocessing.add_timeseries(df_train)\n",
    "df_test = Preprocessing.add_timeseries(df_test)\n",
    "\n",
    "train_label=pd.read_csv(DATA_PATH +\"TD_mode.csv\", header=None).values\n",
    "test_label=pd.read_csv(DATA_PATH +\"Test_mode.csv\", header=None).values\n",
    "\n"
   ]
  },
  {
   "cell_type": "code",
   "execution_count": 3,
   "id": "141cacef",
   "metadata": {},
   "outputs": [],
   "source": [
    "class AircraftDataset(Dataset):\n",
    "    def __init__(self, df, labels):# df is a dataframe and label is an array indicate the true failure mode\n",
    "        self.df = df.groupby(\"Unit\").agg(list).reset_index()\n",
    "        self.labels=labels\n",
    "\n",
    "    def __len__(self):\n",
    "        return self.df.shape[0]\n",
    "\n",
    "    def __getitem__(self, idx):\n",
    "        data = {}\n",
    "#         sensor = ['T24', 'T30', 'T50', 'P30', 'Nf', 'Nc', 'Ps30',\n",
    "#                   'phi', 'NRf', 'NRc', 'BPR', 'htBleed', 'W31', 'W32']\n",
    "        sensor=['T24','T30','T50','P30','Ps30','phi']\n",
    "        multi_sensor = []\n",
    "        for sensor_name in sensor:\n",
    "            multi_sensor.append(np.array(self.df[sensor_name].values.tolist()[idx]))\n",
    "            single_sensor = np.array(self.df[sensor_name].values.tolist()[idx])[:, None]\n",
    "            #data[sensor_name] = torch.tensor(single_sensor, dtype=torch.float)\n",
    "        multi_sensor = np.vstack(multi_sensor).transpose(1, 0)\n",
    "        data[\"input\"] = np.array(multi_sensor, dtype=np.float64)\n",
    "        data[\"lifetime\"] = np.array(len(multi_sensor), dtype=np.int64)\n",
    "        g=self.df[\"Time\"].values.tolist()[idx]\n",
    "        data[\"Phi_l\"] = np.array([np.array([1,i/500,(i/500)*(i/500)]) for i in g])\n",
    "#         data[\"Phi_l\"] = np.array([np.array([1,i,i*i],dtype=np.int64) for i in g],dtype=np.int64)\n",
    "        if self.labels[idx].item()==-1:\n",
    "            data[\"mode\"]=np.array([1,0],dtype=np.float64)\n",
    "        elif self.labels[idx].item()==1:\n",
    "            data[\"mode\"]=np.array([0,1],dtype=np.float64)\n",
    "        return data"
   ]
  },
  {
   "cell_type": "code",
   "execution_count": 4,
   "id": "78e68bfa",
   "metadata": {},
   "outputs": [],
   "source": [
    "train_dataset=AircraftDataset(df_train,train_label) # 不插0计算创建dataset的子类\n",
    "test_dataset = AircraftDataset(df_test,test_label)"
   ]
  },
  {
   "cell_type": "code",
   "execution_count": 5,
   "id": "d39c457e",
   "metadata": {},
   "outputs": [],
   "source": [
    "set_seed(65)"
   ]
  },
  {
   "cell_type": "code",
   "execution_count": 6,
   "id": "5931359a",
   "metadata": {},
   "outputs": [],
   "source": [
    "w_k=np.random.rand(6,1)\n",
    "pi_k=np.random.random(size=None)\n",
    "mu_k=np.random.rand(3,1)\n",
    "Sigma_k=np.random.rand(3,3)\n",
    "sigma_k_2=np.random.random(size=None)\n",
    "x_l=train_dataset[1][\"input\"]\n",
    "Phi_l=train_dataset[1][\"Phi_l\"]\n",
    "\n",
    "w_1=np.random.rand(6,1)\n",
    "pi_1=np.random.random(size=None)\n",
    "mu_1=np.random.rand(3,1)\n",
    "Sigma_1=np.random.rand(3,3)\n",
    "sigma_1_2=np.random.random(size=None)\n",
    "\n",
    "w_2=np.random.rand(6,1)\n",
    "pi_2=np.random.random(size=None)\n",
    "mu_2=np.random.rand(3,1)\n",
    "Sigma_2=np.random.rand(3,3)\n",
    "sigma_2_2=np.random.random(size=None)"
   ]
  },
  {
   "cell_type": "code",
   "execution_count": 7,
   "id": "c15bd444",
   "metadata": {},
   "outputs": [
    {
     "data": {
      "text/plain": [
       "array([-310.95819144])"
      ]
     },
     "execution_count": 7,
     "metadata": {},
     "output_type": "execute_result"
    }
   ],
   "source": [
    "def ln_get_hat_rho_k_numerator(x_l,Phi_l,pi_k, w_k, mu_k, Sigma_k, sigma_k_2):\n",
    "    ln_hat_rho_k_numerator = 0\n",
    "    for t in range(len(x_l)):\n",
    "        post_mean = Phi_l[t] @ mu_k\n",
    "        post_var = Phi_l[t] @ Sigma_k @ Phi_l[t].T + sigma_k_2\n",
    "        exp_part = (x_l[t] @ w_k-post_mean)**2/(-2*post_var)\n",
    "        reg_part = 2*np.pi*post_var\n",
    "        ln_PDF = np.log(1/np.sqrt(reg_part))+exp_part\n",
    "        ln_hat_rho_k_numerator += ln_PDF\n",
    "    return ln_hat_rho_k_numerator + np.log(pi_k)\n",
    "ln_get_hat_rho_k_numerator(x_l,Phi_l,pi_k, w_k, mu_k, Sigma_k, sigma_k_2)"
   ]
  },
  {
   "cell_type": "code",
   "execution_count": 8,
   "id": "d0bb19eb",
   "metadata": {},
   "outputs": [
    {
     "data": {
      "text/plain": [
       "array([[0.88923584],\n",
       "       [0.11076416]])"
      ]
     },
     "execution_count": 8,
     "metadata": {},
     "output_type": "execute_result"
    }
   ],
   "source": [
    "def get_hat_rho_l(x_l,Phi_l,*arg\n",
    "#                   [pi_k, w_k,  mu_k, Sigma_k, sigma_k_2],\n",
    "#                      [pi_k, w_k, mu_k, Sigma_k, sigma_k_2]\n",
    "                 ):\n",
    "    num_mode=len(arg)\n",
    "    ln_numerator_list=[]\n",
    "    for idx in range(num_mode):\n",
    "        [pi_k, w_k,  mu_k, Sigma_k, sigma_k_2] = arg[idx]\n",
    "        ln_numerator_list.append(ln_get_hat_rho_k_numerator(x_l, Phi_l, pi_k,\n",
    "                                                            w_k,  mu_k,\n",
    "                                                            Sigma_k, sigma_k_2))\n",
    "    hat_rho_l_list=[]\n",
    "    for idx in range(num_mode):\n",
    "        denominator = 0\n",
    "        for idx_ in range(num_mode):\n",
    "            denominator+=np.exp(ln_numerator_list[idx_]-ln_numerator_list[idx])\n",
    "        hat_rho_l_list.append(1 / denominator)\n",
    "    return np.array(hat_rho_l_list)\n",
    "\n",
    "get_hat_rho_l(x_l,Phi_l,\n",
    "                 [pi_k, w_k,  mu_k, Sigma_k, sigma_k_2],\n",
    "                     [pi_1, w_1, mu_1, Sigma_1, sigma_1_2]\n",
    "                 )"
   ]
  },
  {
   "cell_type": "code",
   "execution_count": 9,
   "id": "a0b16879",
   "metadata": {},
   "outputs": [
    {
     "data": {
      "text/plain": [
       "(array([[-0.25593495],\n",
       "        [ 1.18045668],\n",
       "        [ 6.15896422]]),\n",
       " array([[ 0.01673676, -0.04811881, -0.00469984],\n",
       "        [ 0.00187973, -0.09003423,  0.27170662],\n",
       "        [-0.14750615,  0.77294568, -0.69973195]]))"
      ]
     },
     "execution_count": 9,
     "metadata": {},
     "output_type": "execute_result"
    }
   ],
   "source": [
    "def get_hat_Gamma_l_k_and_hat_Sigma_l_k(x_l, Phi_l, w_k, mu_k, Sigma_k, sigma_k_2):\n",
    "    hat_Sigma_l_k = np.linalg.inv(Phi_l.T @ Phi_l / sigma_k_2 + np.linalg.inv(Sigma_k))\n",
    "    hat_Gamma_l_k = hat_Sigma_l_k @ (Phi_l.T @ x_l @ w_k / sigma_k_2 + np.linalg.inv(Sigma_k) @ mu_k)\n",
    "    return hat_Gamma_l_k, hat_Sigma_l_k\n",
    "get_hat_Gamma_l_k_and_hat_Sigma_l_k(x_l, Phi_l, w_k, mu_k, Sigma_k, sigma_k_2)"
   ]
  },
  {
   "cell_type": "code",
   "execution_count": 10,
   "id": "7ed550c0",
   "metadata": {},
   "outputs": [
    {
     "data": {
      "text/plain": [
       "(array([[58.68097048],\n",
       "        [41.31902952]]),\n",
       " array([[0.5868097],\n",
       "        [0.4131903]]))"
      ]
     },
     "execution_count": 10,
     "metadata": {},
     "output_type": "execute_result"
    }
   ],
   "source": [
    "def get_N_k_and_hat_pi_k(instance, *arg):\n",
    "    num_mode = len(arg)\n",
    "    N_k_list = np.zeros((num_mode, 1))\n",
    "    for l in range(len(instance)):\n",
    "        x_l = instance[l][\"input\"]\n",
    "        Phi_l = instance[l][\"Phi_l\"]\n",
    "        N_k_list += get_hat_rho_l(x_l, Phi_l, *arg)\n",
    "    return N_k_list,(N_k_list/np.sum(N_k_list))\n",
    "\n",
    "get_N_k_and_hat_pi_k(train_dataset,[pi_k, w_k, mu_k, Sigma_k, sigma_k_2],[pi_1, w_1, mu_1, Sigma_1, sigma_1_2])"
   ]
  },
  {
   "cell_type": "code",
   "execution_count": 11,
   "id": "e68ccdad",
   "metadata": {},
   "outputs": [
    {
     "data": {
      "text/plain": [
       "array([[[ 1.28648131],\n",
       "        [-2.44860348],\n",
       "        [-8.73149423]],\n",
       "\n",
       "       [[ 0.32957079],\n",
       "        [ 1.34938709],\n",
       "        [ 3.33324204]]])"
      ]
     },
     "execution_count": 11,
     "metadata": {},
     "output_type": "execute_result"
    }
   ],
   "source": [
    "def get_new_mu_list(instance, *arg):\n",
    "        num_mode = len(arg)\n",
    "        mu_list=[]\n",
    "        for idx in range(num_mode):\n",
    "            N_k = 0\n",
    "            sum_l = 0\n",
    "            for l in range(len(instance)):\n",
    "                [pi_k, w_k, mu_k, Sigma_k, sigma_k_2] = arg[idx]\n",
    "                x_l = instance[l][\"input\"]\n",
    "                Phi_l = instance[l][\"Phi_l\"]\n",
    "                rho_l_k = get_hat_rho_l(x_l, Phi_l, *arg)[idx]\n",
    "                N_k += rho_l_k\n",
    "                hat_Gamma_l_k=get_hat_Gamma_l_k_and_hat_Sigma_l_k(x_l, Phi_l, w_k, mu_k,\n",
    "                                                              Sigma_k, sigma_k_2)[0]\n",
    "                sum_l += rho_l_k * hat_Gamma_l_k\n",
    "            mu_list.append(sum_l/N_k)\n",
    "        return np.array(mu_list)\n",
    "get_new_mu_list(train_dataset, [pi_k, w_k, mu_k, Sigma_k, sigma_k_2],[pi_1, w_1, mu_1, Sigma_1, sigma_1_2])"
   ]
  },
  {
   "cell_type": "code",
   "execution_count": 12,
   "id": "542cf987",
   "metadata": {},
   "outputs": [
    {
     "data": {
      "text/plain": [
       "array([[[5.57670294e+03, 5.57730117e+03, 5.57659580e+03],\n",
       "        [5.57707132e+03, 5.57505346e+03, 5.57759086e+03],\n",
       "        [5.57769928e+03, 5.57144342e+03, 5.57807403e+03]],\n",
       "\n",
       "       [[4.35065473e+00, 4.34946951e+00, 4.32493424e+00],\n",
       "        [4.34961547e+00, 4.31016434e+00, 4.45958760e+00],\n",
       "        [4.32284811e+00, 4.47277103e+00, 4.32158873e+00]]])"
      ]
     },
     "execution_count": 12,
     "metadata": {},
     "output_type": "execute_result"
    }
   ],
   "source": [
    "def get_new_Sigma_K_list(instance, *arg):\n",
    "    num_mode = len(arg)\n",
    "    mu_list = get_new_mu_list(instance, *arg)\n",
    "    Sigma_list = []\n",
    "    for idx in range(num_mode):\n",
    "        N_k = 0\n",
    "        sum_l_Sigma_k = 0\n",
    "        for l in range(len(instance)):\n",
    "            [pi_k, w_k, mu_k, Sigma_k, sigma_k_2] = arg[idx]\n",
    "            x_l = instance[l][\"input\"]\n",
    "            Phi_l = instance[l][\"Phi_l\"]\n",
    "            rho_l_k = get_hat_rho_l(x_l, Phi_l, *arg)[idx]\n",
    "            N_k += rho_l_k\n",
    "\n",
    "            hat_Gamma_l_k, hat_Sigma_l_k = get_hat_Gamma_l_k_and_hat_Sigma_l_k(x_l, Phi_l, w_k, mu_k,\n",
    "                                                                               Sigma_k, sigma_k_2)\n",
    "            hat_mu_k = mu_list[idx]\n",
    "\n",
    "            sum_l_Sigma_k += rho_l_k * (hat_Sigma_l_k + \n",
    "                                        (hat_Gamma_l_k - hat_mu_k).T @ (hat_Gamma_l_k - hat_mu_k))\n",
    "        Sigma_list.append(sum_l_Sigma_k / N_k)\n",
    "    return np.array(Sigma_list)\n",
    "get_new_Sigma_K_list(train_dataset, [pi_k, w_k, mu_k, Sigma_k, sigma_k_2],[pi_1, w_1, mu_1, Sigma_1, sigma_1_2])"
   ]
  },
  {
   "cell_type": "code",
   "execution_count": 13,
   "id": "9a8b6f38",
   "metadata": {},
   "outputs": [
    {
     "data": {
      "text/plain": [
       "array([[3380.22789249],\n",
       "       [  33.90052548]])"
      ]
     },
     "execution_count": 13,
     "metadata": {},
     "output_type": "execute_result"
    }
   ],
   "source": [
    "def get_new_sigma_k_2_list(instance, *arg):\n",
    "    num_mode = len(arg)\n",
    "    sigma_k_2_list = []\n",
    "    for idx in range(num_mode):\n",
    "        N_k = 0\n",
    "        sum_l_sigma_k_2 = 0\n",
    "        for l in range(len(instance)):\n",
    "            [pi_k, w_k, mu_k, Sigma_k, sigma_k_2] = arg[idx]\n",
    "            x_l = instance[l][\"input\"]\n",
    "            Phi_l = instance[l][\"Phi_l\"]\n",
    "            rho_l_k = get_hat_rho_l(x_l, Phi_l, *arg)[idx]\n",
    "            N_k += rho_l_k\n",
    "\n",
    "            hat_Gamma_l_k, hat_Sigma_l_k = get_hat_Gamma_l_k_and_hat_Sigma_l_k(x_l, Phi_l, w_k, mu_k,\n",
    "                                                                               Sigma_k, sigma_k_2)\n",
    "\n",
    "            sum_l_sigma_k_2 += rho_l_k * ((x_l @ w_k - Phi_l @ hat_Gamma_l_k).T @\n",
    "                                          (x_l @ w_k - Phi_l @ hat_Gamma_l_k) +\n",
    "                                          np.trace(Phi_l @ hat_Sigma_l_k @ Phi_l.T))\n",
    "        sigma_k_2_list.append(sum_l_sigma_k_2 / N_k)\n",
    "    return np.array(sigma_k_2_list).reshape(num_mode,1)\n",
    "get_new_sigma_k_2_list(train_dataset, [pi_k, w_k, mu_k, Sigma_k, sigma_k_2],[pi_1, w_1, mu_1, Sigma_1, sigma_1_2])"
   ]
  },
  {
   "cell_type": "code",
   "execution_count": 14,
   "id": "d0fd444d",
   "metadata": {},
   "outputs": [
    {
     "name": "stderr",
     "output_type": "stream",
     "text": [
      "<ipython-input-14-a8a104ade3ec>:15: RuntimeWarning: invalid value encountered in sqrt\n",
      "  denominator = np.sqrt(Phi_tau_l@Sigma_k@Phi_l.T@Phi_l@hat_Sigma_l_k@Phi_tau_l.T)\n"
     ]
    },
    {
     "data": {
      "text/plain": [
       "array([[[        nan],\n",
       "        [        nan],\n",
       "        [        nan],\n",
       "        [        nan],\n",
       "        [        nan],\n",
       "        [        nan]],\n",
       "\n",
       "       [[ 0.19895504],\n",
       "        [ 0.11710138],\n",
       "        [ 0.182753  ],\n",
       "        [ 0.08168737],\n",
       "        [ 0.27283716],\n",
       "        [-0.05862519]]])"
      ]
     },
     "execution_count": 14,
     "metadata": {},
     "output_type": "execute_result"
    }
   ],
   "source": [
    "def get_new_w_k_list(instance, *arg):\n",
    "    num_mode = len(arg)\n",
    "    w_k_list = []\n",
    "    for idx in range(num_mode):\n",
    "        sum_l_a2a2 = 0\n",
    "        sum_l_a2b2 = 0\n",
    "        for l in range(len(instance)):\n",
    "            [pi_k, w_k, mu_k, Sigma_k, sigma_k_2] = arg[idx]\n",
    "            x_l = instance[l][\"input\"]\n",
    "            Phi_l = instance[l][\"Phi_l\"]\n",
    "            Phi_tau_l = Phi_l[-1].reshape(1, 3)\n",
    "            D_k = 1\n",
    "            hat_Gamma_l_k, hat_Sigma_l_k = get_hat_Gamma_l_k_and_hat_Sigma_l_k(x_l, Phi_l, w_k, mu_k,\n",
    "                                                                               Sigma_k, sigma_k_2)\n",
    "            denominator = np.sqrt(Phi_tau_l@Sigma_k@Phi_l.T@Phi_l@hat_Sigma_l_k@Phi_tau_l.T)\n",
    "            a2=(Phi_tau_l@hat_Sigma_l_k@Phi_l.T@x_l)/denominator # 1*6\n",
    "            b2=sigma_k_2*(D_k-Phi_tau_l@hat_Sigma_l_k@np.linalg.inv(Sigma_k)@mu_k)/denominator # 1*1\n",
    "\n",
    "            sum_l_a2a2 += a2.T@a2 # 6*6\n",
    "            sum_l_a2b2 += a2.T * b2 # 6*1\n",
    "        w_k_list.append(np.linalg.inv(sum_l_a2a2)@sum_l_a2b2)\n",
    "    return np.array(w_k_list)\n",
    "get_new_w_k_list(train_dataset, [pi_k, w_k, mu_k, Sigma_k, sigma_k_2],[pi_1, w_1, mu_1, Sigma_1, sigma_1_2])"
   ]
  },
  {
   "cell_type": "code",
   "execution_count": 15,
   "id": "00891b1f",
   "metadata": {},
   "outputs": [],
   "source": [
    "def EM_iteration(instance, iteration=100, limitation=0.01, *arg):\n",
    "    num_mode = len(arg)\n",
    "    itr = 0\n",
    "\n",
    "    while itr < iteration:\n",
    "        old_w = []\n",
    "        old_mu = []\n",
    "        old_Sigma = []\n",
    "        old_sigma_2 = []\n",
    "        for idx in range(num_mode):\n",
    "            old_w.append(arg[idx][1])\n",
    "            old_mu.append(arg[idx][2])\n",
    "            old_Sigma.append(arg[idx][3])\n",
    "            old_sigma_2.append(arg[idx][4])\n",
    "        old_w = np.array(old_w)\n",
    "        old_mu = np.array(old_mu)\n",
    "        old_Sigma = np.array(old_Sigma)\n",
    "        old_sigma_2 = np.array(old_sigma_2)\n",
    "\n",
    "        updated_w = get_new_w_k_list(instance, *arg)\n",
    "        for idx in range(num_mode):\n",
    "            arg[idx][1] = updated_w[idx]\n",
    "\n",
    "        updated_pi_k=get_N_k_and_hat_pi_k(instance, *arg)[1]\n",
    "        updated_mu = get_new_mu_list(instance, *arg)  # num_mode*3*1\n",
    "        updated_Sigma = get_new_Sigma_K_list(instance, *arg)\n",
    "        updated_sigma_2 = get_new_sigma_k_2_list(instance, *arg)\n",
    "\n",
    "        loss_w = (np.square(old_w - updated_w)).mean().item()\n",
    "        loss_mu = (np.square(old_mu - updated_mu)).mean().item()\n",
    "        loss_Sigma = (np.square(old_Sigma - updated_Sigma)).mean().item()\n",
    "        loss_sigma_2 = (np.square(old_sigma_2 - updated_sigma_2)).mean().item()\n",
    "        \n",
    "        for idx in range(num_mode):\n",
    "            arg[idx][0] = updated_pi_k[idx]\n",
    "            arg[idx][2] = updated_mu[idx]\n",
    "            arg[idx][3] = updated_Sigma[idx]\n",
    "            arg[idx][4] = updated_sigma_2[idx]\n",
    "\n",
    "        if loss_w < limitation and loss_w < limitation and loss_Sigma < limitation and loss_sigma_2 < limitation:\n",
    "            print(f\"converge!, itr={itr}\")\n",
    "            break\n",
    "        else:\n",
    "            itr += 1\n",
    "            if itr % 10 == 0:\n",
    "                loss = loss_w + loss_mu + loss_Sigma + loss_sigma_2\n",
    "                print(f\"itr={itr},loss={loss}\")\n",
    "        if itr == iteration:\n",
    "            print(f\"g!, itr={itr}\")\n",
    "            break\n",
    "    return arg"
   ]
  },
  {
   "cell_type": "code",
   "execution_count": 16,
   "id": "55dbaf52",
   "metadata": {},
   "outputs": [
    {
     "ename": "NameError",
     "evalue": "name 'num_mode' is not defined",
     "output_type": "error",
     "traceback": [
      "\u001b[1;31m---------------------------------------------------------------------------\u001b[0m",
      "\u001b[1;31mNameError\u001b[0m                                 Traceback (most recent call last)",
      "\u001b[1;32m<ipython-input-16-4f840b7aa4a0>\u001b[0m in \u001b[0;36m<module>\u001b[1;34m\u001b[0m\n\u001b[0;32m      6\u001b[0m \u001b[0mold_Sigma\u001b[0m \u001b[1;33m=\u001b[0m \u001b[1;33m[\u001b[0m\u001b[1;33m]\u001b[0m\u001b[1;33m\u001b[0m\u001b[1;33m\u001b[0m\u001b[0m\n\u001b[0;32m      7\u001b[0m \u001b[0mold_sigma_2\u001b[0m \u001b[1;33m=\u001b[0m \u001b[1;33m[\u001b[0m\u001b[1;33m]\u001b[0m\u001b[1;33m\u001b[0m\u001b[1;33m\u001b[0m\u001b[0m\n\u001b[1;32m----> 8\u001b[1;33m \u001b[1;32mfor\u001b[0m \u001b[0midx\u001b[0m \u001b[1;32min\u001b[0m \u001b[0mrange\u001b[0m\u001b[1;33m(\u001b[0m\u001b[0mnum_mode\u001b[0m\u001b[1;33m)\u001b[0m\u001b[1;33m:\u001b[0m\u001b[1;33m\u001b[0m\u001b[1;33m\u001b[0m\u001b[0m\n\u001b[0m\u001b[0;32m      9\u001b[0m     \u001b[0mold_w\u001b[0m\u001b[1;33m.\u001b[0m\u001b[0mappend\u001b[0m\u001b[1;33m(\u001b[0m\u001b[0marg\u001b[0m\u001b[1;33m[\u001b[0m\u001b[0midx\u001b[0m\u001b[1;33m]\u001b[0m\u001b[1;33m[\u001b[0m\u001b[1;36m1\u001b[0m\u001b[1;33m]\u001b[0m\u001b[1;33m)\u001b[0m\u001b[1;33m\u001b[0m\u001b[1;33m\u001b[0m\u001b[0m\n\u001b[0;32m     10\u001b[0m     \u001b[0mold_mu\u001b[0m\u001b[1;33m.\u001b[0m\u001b[0mappend\u001b[0m\u001b[1;33m(\u001b[0m\u001b[0marg\u001b[0m\u001b[1;33m[\u001b[0m\u001b[0midx\u001b[0m\u001b[1;33m]\u001b[0m\u001b[1;33m[\u001b[0m\u001b[1;36m2\u001b[0m\u001b[1;33m]\u001b[0m\u001b[1;33m)\u001b[0m\u001b[1;33m\u001b[0m\u001b[1;33m\u001b[0m\u001b[0m\n",
      "\u001b[1;31mNameError\u001b[0m: name 'num_mode' is not defined"
     ]
    }
   ],
   "source": [
    "instance=train_dataset\n",
    "arg=[0.6, w_k, mu_k, Sigma_k, sigma_k_2],\\\n",
    "                     [0.4, w_k, mu_k, Sigma_k, sigma_k_2]\n",
    "old_w = []\n",
    "old_mu = []\n",
    "old_Sigma = []\n",
    "old_sigma_2 = []\n",
    "for idx in range(num_mode):\n",
    "    old_w.append(arg[idx][1])\n",
    "    old_mu.append(arg[idx][2])\n",
    "    old_Sigma.append(arg[idx][3])\n",
    "    old_sigma_2.append(arg[idx][4])\n",
    "old_w = np.array(old_w)\n",
    "old_mu = np.array(old_mu)\n",
    "old_Sigma = np.array(old_Sigma)\n",
    "old_sigma_2 = np.array(old_sigma_2)\n",
    "\n",
    "updated_w = get_new_w_k_list(instance, *arg)\n",
    "for idx in range(num_mode):\n",
    "    arg[idx][1] = updated_w[idx]"
   ]
  },
  {
   "cell_type": "code",
   "execution_count": 244,
   "id": "9d014dfa",
   "metadata": {},
   "outputs": [
    {
     "data": {
      "text/plain": [
       "array([[0.6],\n",
       "       [0.4]])"
      ]
     },
     "execution_count": 244,
     "metadata": {},
     "output_type": "execute_result"
    }
   ],
   "source": [
    "get_hat_rho_l(x_l, Phi_l, *arg\n",
    "                  #                   [pi_k, w_k,  mu_k, Sigma_k, sigma_k_2],\n",
    "                  #                      [pi_k, w_k, mu_k, Sigma_k, sigma_k_2]\n",
    "                  )"
   ]
  },
  {
   "cell_type": "code",
   "execution_count": 245,
   "id": "2e485d73",
   "metadata": {},
   "outputs": [
    {
     "data": {
      "text/plain": [
       "array([[0.6],\n",
       "       [0.4]])"
      ]
     },
     "execution_count": 245,
     "metadata": {},
     "output_type": "execute_result"
    }
   ],
   "source": [
    "updated_pi_k = get_N_k_and_hat_pi_k(instance, *arg)[1]\n",
    "updated_pi_k "
   ]
  },
  {
   "cell_type": "code",
   "execution_count": 246,
   "id": "da551290",
   "metadata": {},
   "outputs": [
    {
     "data": {
      "text/plain": [
       "array([[[ 3.82084320e-01],\n",
       "        [-1.40637427e-03],\n",
       "        [ 1.88911807e-05]],\n",
       "\n",
       "       [[ 3.82084320e-01],\n",
       "        [-1.40637427e-03],\n",
       "        [ 1.88911807e-05]]])"
      ]
     },
     "execution_count": 246,
     "metadata": {},
     "output_type": "execute_result"
    }
   ],
   "source": [
    "updated_mu = get_new_mu_list(instance, *arg)  # num_mode*3*1\n",
    "updated_mu"
   ]
  },
  {
   "cell_type": "code",
   "execution_count": 18,
   "id": "b2e26280",
   "metadata": {},
   "outputs": [
    {
     "name": "stderr",
     "output_type": "stream",
     "text": [
      "<ipython-input-14-a8a104ade3ec>:15: RuntimeWarning: invalid value encountered in sqrt\n",
      "  denominator = np.sqrt(Phi_tau_l@Sigma_k@Phi_l.T@Phi_l@hat_Sigma_l_k@Phi_tau_l.T)\n"
     ]
    },
    {
     "ename": "KeyboardInterrupt",
     "evalue": "",
     "output_type": "error",
     "traceback": [
      "\u001b[1;31m---------------------------------------------------------------------------\u001b[0m",
      "\u001b[1;31mKeyboardInterrupt\u001b[0m                         Traceback (most recent call last)",
      "\u001b[1;32m<ipython-input-18-db583ae95eaf>\u001b[0m in \u001b[0;36m<module>\u001b[1;34m\u001b[0m\n\u001b[1;32m----> 1\u001b[1;33m new_arg=EM_iteration(train_dataset, 5,5,[0.6, w_k, mu_k, Sigma_k, sigma_k_2],\n\u001b[0m\u001b[0;32m      2\u001b[0m                      [0.4, w_1, mu_1 ,Sigma_1, sigma_1_2])\n",
      "\u001b[1;32m<ipython-input-15-083ca5b95e65>\u001b[0m in \u001b[0;36mEM_iteration\u001b[1;34m(instance, iteration, limitation, *arg)\u001b[0m\n\u001b[0;32m     25\u001b[0m         \u001b[0mupdated_mu\u001b[0m \u001b[1;33m=\u001b[0m \u001b[0mget_new_mu_list\u001b[0m\u001b[1;33m(\u001b[0m\u001b[0minstance\u001b[0m\u001b[1;33m,\u001b[0m \u001b[1;33m*\u001b[0m\u001b[0marg\u001b[0m\u001b[1;33m)\u001b[0m  \u001b[1;31m# num_mode*3*1\u001b[0m\u001b[1;33m\u001b[0m\u001b[1;33m\u001b[0m\u001b[0m\n\u001b[0;32m     26\u001b[0m         \u001b[0mupdated_Sigma\u001b[0m \u001b[1;33m=\u001b[0m \u001b[0mget_new_Sigma_K_list\u001b[0m\u001b[1;33m(\u001b[0m\u001b[0minstance\u001b[0m\u001b[1;33m,\u001b[0m \u001b[1;33m*\u001b[0m\u001b[0marg\u001b[0m\u001b[1;33m)\u001b[0m\u001b[1;33m\u001b[0m\u001b[1;33m\u001b[0m\u001b[0m\n\u001b[1;32m---> 27\u001b[1;33m         \u001b[0mupdated_sigma_2\u001b[0m \u001b[1;33m=\u001b[0m \u001b[0mget_new_sigma_k_2_list\u001b[0m\u001b[1;33m(\u001b[0m\u001b[0minstance\u001b[0m\u001b[1;33m,\u001b[0m \u001b[1;33m*\u001b[0m\u001b[0marg\u001b[0m\u001b[1;33m)\u001b[0m\u001b[1;33m\u001b[0m\u001b[1;33m\u001b[0m\u001b[0m\n\u001b[0m\u001b[0;32m     28\u001b[0m \u001b[1;33m\u001b[0m\u001b[0m\n\u001b[0;32m     29\u001b[0m         \u001b[0mloss_w\u001b[0m \u001b[1;33m=\u001b[0m \u001b[1;33m(\u001b[0m\u001b[0mnp\u001b[0m\u001b[1;33m.\u001b[0m\u001b[0msquare\u001b[0m\u001b[1;33m(\u001b[0m\u001b[0mold_w\u001b[0m \u001b[1;33m-\u001b[0m \u001b[0mupdated_w\u001b[0m\u001b[1;33m)\u001b[0m\u001b[1;33m)\u001b[0m\u001b[1;33m.\u001b[0m\u001b[0mmean\u001b[0m\u001b[1;33m(\u001b[0m\u001b[1;33m)\u001b[0m\u001b[1;33m.\u001b[0m\u001b[0mitem\u001b[0m\u001b[1;33m(\u001b[0m\u001b[1;33m)\u001b[0m\u001b[1;33m\u001b[0m\u001b[1;33m\u001b[0m\u001b[0m\n",
      "\u001b[1;32m<ipython-input-13-0ad921a93349>\u001b[0m in \u001b[0;36mget_new_sigma_k_2_list\u001b[1;34m(instance, *arg)\u001b[0m\n\u001b[0;32m      7\u001b[0m         \u001b[1;32mfor\u001b[0m \u001b[0ml\u001b[0m \u001b[1;32min\u001b[0m \u001b[0mrange\u001b[0m\u001b[1;33m(\u001b[0m\u001b[0mlen\u001b[0m\u001b[1;33m(\u001b[0m\u001b[0minstance\u001b[0m\u001b[1;33m)\u001b[0m\u001b[1;33m)\u001b[0m\u001b[1;33m:\u001b[0m\u001b[1;33m\u001b[0m\u001b[1;33m\u001b[0m\u001b[0m\n\u001b[0;32m      8\u001b[0m             \u001b[1;33m[\u001b[0m\u001b[0mpi_k\u001b[0m\u001b[1;33m,\u001b[0m \u001b[0mw_k\u001b[0m\u001b[1;33m,\u001b[0m \u001b[0mmu_k\u001b[0m\u001b[1;33m,\u001b[0m \u001b[0mSigma_k\u001b[0m\u001b[1;33m,\u001b[0m \u001b[0msigma_k_2\u001b[0m\u001b[1;33m]\u001b[0m \u001b[1;33m=\u001b[0m \u001b[0marg\u001b[0m\u001b[1;33m[\u001b[0m\u001b[0midx\u001b[0m\u001b[1;33m]\u001b[0m\u001b[1;33m\u001b[0m\u001b[1;33m\u001b[0m\u001b[0m\n\u001b[1;32m----> 9\u001b[1;33m             \u001b[0mx_l\u001b[0m \u001b[1;33m=\u001b[0m \u001b[0minstance\u001b[0m\u001b[1;33m[\u001b[0m\u001b[0ml\u001b[0m\u001b[1;33m]\u001b[0m\u001b[1;33m[\u001b[0m\u001b[1;34m\"input\"\u001b[0m\u001b[1;33m]\u001b[0m\u001b[1;33m\u001b[0m\u001b[1;33m\u001b[0m\u001b[0m\n\u001b[0m\u001b[0;32m     10\u001b[0m             \u001b[0mPhi_l\u001b[0m \u001b[1;33m=\u001b[0m \u001b[0minstance\u001b[0m\u001b[1;33m[\u001b[0m\u001b[0ml\u001b[0m\u001b[1;33m]\u001b[0m\u001b[1;33m[\u001b[0m\u001b[1;34m\"Phi_l\"\u001b[0m\u001b[1;33m]\u001b[0m\u001b[1;33m\u001b[0m\u001b[1;33m\u001b[0m\u001b[0m\n\u001b[0;32m     11\u001b[0m             \u001b[0mrho_l_k\u001b[0m \u001b[1;33m=\u001b[0m \u001b[0mget_hat_rho_l\u001b[0m\u001b[1;33m(\u001b[0m\u001b[0mx_l\u001b[0m\u001b[1;33m,\u001b[0m \u001b[0mPhi_l\u001b[0m\u001b[1;33m,\u001b[0m \u001b[1;33m*\u001b[0m\u001b[0marg\u001b[0m\u001b[1;33m)\u001b[0m\u001b[1;33m[\u001b[0m\u001b[0midx\u001b[0m\u001b[1;33m]\u001b[0m\u001b[1;33m\u001b[0m\u001b[1;33m\u001b[0m\u001b[0m\n",
      "\u001b[1;32m<ipython-input-3-bb2d9774c33f>\u001b[0m in \u001b[0;36m__getitem__\u001b[1;34m(self, idx)\u001b[0m\n\u001b[0;32m     21\u001b[0m         \u001b[0mdata\u001b[0m\u001b[1;33m[\u001b[0m\u001b[1;34m\"lifetime\"\u001b[0m\u001b[1;33m]\u001b[0m \u001b[1;33m=\u001b[0m \u001b[0mnp\u001b[0m\u001b[1;33m.\u001b[0m\u001b[0marray\u001b[0m\u001b[1;33m(\u001b[0m\u001b[0mlen\u001b[0m\u001b[1;33m(\u001b[0m\u001b[0mmulti_sensor\u001b[0m\u001b[1;33m)\u001b[0m\u001b[1;33m,\u001b[0m \u001b[0mdtype\u001b[0m\u001b[1;33m=\u001b[0m\u001b[0mnp\u001b[0m\u001b[1;33m.\u001b[0m\u001b[0mint64\u001b[0m\u001b[1;33m)\u001b[0m\u001b[1;33m\u001b[0m\u001b[1;33m\u001b[0m\u001b[0m\n\u001b[0;32m     22\u001b[0m         \u001b[0mg\u001b[0m\u001b[1;33m=\u001b[0m\u001b[0mself\u001b[0m\u001b[1;33m.\u001b[0m\u001b[0mdf\u001b[0m\u001b[1;33m[\u001b[0m\u001b[1;34m\"Time\"\u001b[0m\u001b[1;33m]\u001b[0m\u001b[1;33m.\u001b[0m\u001b[0mvalues\u001b[0m\u001b[1;33m.\u001b[0m\u001b[0mtolist\u001b[0m\u001b[1;33m(\u001b[0m\u001b[1;33m)\u001b[0m\u001b[1;33m[\u001b[0m\u001b[0midx\u001b[0m\u001b[1;33m]\u001b[0m\u001b[1;33m\u001b[0m\u001b[1;33m\u001b[0m\u001b[0m\n\u001b[1;32m---> 23\u001b[1;33m         \u001b[0mdata\u001b[0m\u001b[1;33m[\u001b[0m\u001b[1;34m\"Phi_l\"\u001b[0m\u001b[1;33m]\u001b[0m \u001b[1;33m=\u001b[0m \u001b[0mnp\u001b[0m\u001b[1;33m.\u001b[0m\u001b[0marray\u001b[0m\u001b[1;33m(\u001b[0m\u001b[1;33m[\u001b[0m\u001b[0mnp\u001b[0m\u001b[1;33m.\u001b[0m\u001b[0marray\u001b[0m\u001b[1;33m(\u001b[0m\u001b[1;33m[\u001b[0m\u001b[1;36m1\u001b[0m\u001b[1;33m,\u001b[0m\u001b[0mi\u001b[0m\u001b[1;33m/\u001b[0m\u001b[1;36m500\u001b[0m\u001b[1;33m,\u001b[0m\u001b[1;33m(\u001b[0m\u001b[0mi\u001b[0m\u001b[1;33m/\u001b[0m\u001b[1;36m500\u001b[0m\u001b[1;33m)\u001b[0m\u001b[1;33m*\u001b[0m\u001b[1;33m(\u001b[0m\u001b[0mi\u001b[0m\u001b[1;33m/\u001b[0m\u001b[1;36m500\u001b[0m\u001b[1;33m)\u001b[0m\u001b[1;33m]\u001b[0m\u001b[1;33m)\u001b[0m \u001b[1;32mfor\u001b[0m \u001b[0mi\u001b[0m \u001b[1;32min\u001b[0m \u001b[0mg\u001b[0m\u001b[1;33m]\u001b[0m\u001b[1;33m)\u001b[0m\u001b[1;33m\u001b[0m\u001b[1;33m\u001b[0m\u001b[0m\n\u001b[0m\u001b[0;32m     24\u001b[0m \u001b[1;31m#         data[\"Phi_l\"] = np.array([np.array([1,i,i*i],dtype=np.int64) for i in g],dtype=np.int64)\u001b[0m\u001b[1;33m\u001b[0m\u001b[1;33m\u001b[0m\u001b[1;33m\u001b[0m\u001b[0m\n\u001b[0;32m     25\u001b[0m         \u001b[1;32mif\u001b[0m \u001b[0mself\u001b[0m\u001b[1;33m.\u001b[0m\u001b[0mlabels\u001b[0m\u001b[1;33m[\u001b[0m\u001b[0midx\u001b[0m\u001b[1;33m]\u001b[0m\u001b[1;33m.\u001b[0m\u001b[0mitem\u001b[0m\u001b[1;33m(\u001b[0m\u001b[1;33m)\u001b[0m\u001b[1;33m==\u001b[0m\u001b[1;33m-\u001b[0m\u001b[1;36m1\u001b[0m\u001b[1;33m:\u001b[0m\u001b[1;33m\u001b[0m\u001b[1;33m\u001b[0m\u001b[0m\n",
      "\u001b[1;31mKeyboardInterrupt\u001b[0m: "
     ]
    }
   ],
   "source": [
    "new_arg=EM_iteration(train_dataset, 5,5,[0.6, w_k, mu_k, Sigma_k, sigma_k_2],\n",
    "                     [0.4, w_1, mu_1 ,Sigma_1, sigma_1_2])"
   ]
  },
  {
   "cell_type": "code",
   "execution_count": 242,
   "id": "bcf0d966",
   "metadata": {},
   "outputs": [
    {
     "data": {
      "text/plain": [
       "([array([0.6]),\n",
       "  array([[ 0.16893646],\n",
       "         [ 0.06606164],\n",
       "         [ 0.137952  ],\n",
       "         [ 0.09321275],\n",
       "         [ 0.30881561],\n",
       "         [-0.04007666]]),\n",
       "  array([[ 3.84120253e-01],\n",
       "         [-1.59413224e-03],\n",
       "         [ 1.99578815e-05]]),\n",
       "  array([[ 2.48873550e-02, -4.07008975e-04,  2.37095180e-05],\n",
       "         [-4.07234819e-04,  3.28503989e-05,  2.21378524e-05],\n",
       "         [ 2.37107984e-05,  2.21378442e-05,  2.21828405e-05]]),\n",
       "  array([30.94103607])],\n",
       " [array([0.4]),\n",
       "  array([[ 0.16893646],\n",
       "         [ 0.06606164],\n",
       "         [ 0.137952  ],\n",
       "         [ 0.09321275],\n",
       "         [ 0.30881561],\n",
       "         [-0.04007666]]),\n",
       "  array([[ 3.84120253e-01],\n",
       "         [-1.59413224e-03],\n",
       "         [ 1.99578815e-05]]),\n",
       "  array([[ 2.48873550e-02, -4.07008975e-04,  2.37095180e-05],\n",
       "         [-4.07234819e-04,  3.28503989e-05,  2.21378524e-05],\n",
       "         [ 2.37107984e-05,  2.21378442e-05,  2.21828405e-05]]),\n",
       "  array([30.94103607])])"
      ]
     },
     "execution_count": 242,
     "metadata": {},
     "output_type": "execute_result"
    }
   ],
   "source": [
    "new_arg # [pi_k, w_k, mu_k, Sigma_k, sigma_k_2]"
   ]
  },
  {
   "cell_type": "code",
   "execution_count": 182,
   "id": "5d5f7987",
   "metadata": {},
   "outputs": [
    {
     "data": {
      "text/plain": [
       "[0.8659941335573602,\n",
       " array([[0.6195008 ],\n",
       "        [0.0019485 ],\n",
       "        [0.03566997],\n",
       "        [0.37678955],\n",
       "        [0.21644443],\n",
       "        [0.40484548]]),\n",
       " array([[0.25572342],\n",
       "        [0.60143488],\n",
       "        [0.22690134]]),\n",
       " array([[0.20608795, 0.17591994, 0.88859933],\n",
       "        [0.6715823 , 0.37582037, 0.01798798],\n",
       "        [0.35253791, 0.30602276, 0.42334245]]),\n",
       " 0.39410618841423173]"
      ]
     },
     "execution_count": 182,
     "metadata": {},
     "output_type": "execute_result"
    }
   ],
   "source": [
    "[pi_1, w_1, mu_1, Sigma_1, sigma_1_2]"
   ]
  },
  {
   "cell_type": "code",
   "execution_count": 236,
   "id": "f4e1406b",
   "metadata": {},
   "outputs": [],
   "source": [
    "ina=7\n",
    "x_l=test_dataset[ina][\"input\"]\n",
    "Phi_l=test_dataset[ina][\"Phi_l\"]\n",
    "mode=test_dataset[ina][\"mode\"]"
   ]
  },
  {
   "cell_type": "code",
   "execution_count": null,
   "id": "5356844e",
   "metadata": {},
   "outputs": [],
   "source": []
  },
  {
   "cell_type": "code",
   "execution_count": 237,
   "id": "6bdd508f",
   "metadata": {},
   "outputs": [],
   "source": [
    "gg=get_hat_rho_l(x_l, Phi_l, *new_arg\n",
    "                  #                   [pi_k, w_k,  mu_k, Sigma_k, sigma_k_2],\n",
    "                  #                      [pi_k, w_k, mu_k, Sigma_k, sigma_k_2]\n",
    "                  )"
   ]
  },
  {
   "cell_type": "code",
   "execution_count": 238,
   "id": "a510e343",
   "metadata": {},
   "outputs": [
    {
     "data": {
      "text/plain": [
       "(0,\n",
       " array([[0.5],\n",
       "        [0.5]]),\n",
       " array([1., 0.]))"
      ]
     },
     "execution_count": 238,
     "metadata": {},
     "output_type": "execute_result"
    }
   ],
   "source": [
    "np.argmax(gg),gg,mode"
   ]
  },
  {
   "cell_type": "code",
   "execution_count": null,
   "id": "dc465a8c",
   "metadata": {},
   "outputs": [],
   "source": []
  }
 ],
 "metadata": {
  "kernelspec": {
   "display_name": "Python 3",
   "language": "python",
   "name": "python3"
  },
  "language_info": {
   "codemirror_mode": {
    "name": "ipython",
    "version": 3
   },
   "file_extension": ".py",
   "mimetype": "text/x-python",
   "name": "python",
   "nbconvert_exporter": "python",
   "pygments_lexer": "ipython3",
   "version": "3.8.8"
  }
 },
 "nbformat": 4,
 "nbformat_minor": 5
}
