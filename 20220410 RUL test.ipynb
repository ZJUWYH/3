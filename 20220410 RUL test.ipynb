{
 "cells": [
  {
   "cell_type": "code",
   "execution_count": 1,
   "id": "036747ab",
   "metadata": {},
   "outputs": [],
   "source": [
    "from RUL_part import *"
   ]
  },
  {
   "cell_type": "code",
   "execution_count": 41,
   "id": "82f94e9d",
   "metadata": {},
   "outputs": [],
   "source": [
    "args_result = np.load('./numpy/arg_all_result041201.npy',allow_pickle=True).tolist()"
   ]
  },
  {
   "cell_type": "code",
   "execution_count": 42,
   "id": "2ef0ebf3",
   "metadata": {},
   "outputs": [
    {
     "name": "stdout",
     "output_type": "stream",
     "text": [
      "100 0\n"
     ]
    }
   ],
   "source": [
    "mode_predict_result = [get_hat_rho_l(test_dataset[i],*args_result).reshape(2) for i in range(100)]\n",
    "mode_true = [test_dataset[i][\"mode\"] for i in range(100)]\n",
    "corr = 0\n",
    "err = 0\n",
    "for i in range(100):\n",
    "    if np.sum(mode_predict_result[i] - mode_true [i]) < 0.005:\n",
    "        corr+=1\n",
    "    else:\n",
    "        err+=1\n",
    "print(corr,err)"
   ]
  },
  {
   "cell_type": "code",
   "execution_count": 46,
   "id": "76dc6b37",
   "metadata": {},
   "outputs": [
    {
     "name": "stderr",
     "output_type": "stream",
     "text": [
      "100%|████████████████████████████████████████████████████████████████████████████████| 100/100 [00:23<00:00,  4.22it/s]\n"
     ]
    }
   ],
   "source": [
    "RUL_hat = get_RUL(test_dataset,[1,1],*args_result)"
   ]
  },
  {
   "cell_type": "code",
   "execution_count": 48,
   "id": "20e8a0e9",
   "metadata": {},
   "outputs": [
    {
     "data": {
      "text/plain": [
       "array([ 51,  54,  47, 111, 500, 354,  54,  59,  57,  70,  72,  99, 104,\n",
       "        40, 119,  83, 336, 171,  95,  81,  46, 150, 111,  15,  51,   9,\n",
       "       172, 196, 113,  75, 117,  52,  76,  66, 122, 156, 219,  27,   1,\n",
       "        56, 158, 114, 179,  60, 163,   9, 371,  76, 451,  17,  82, 257,\n",
       "        77, 359,  57,  88, 113,  42,  45, 119, 189,  64, 262,  29, 180,\n",
       "       106, 104, 257, 192,  81,  50,  58, 104, 180,  43,  19, 108,  29,\n",
       "        24, 500,  21,  10, 147, 165,  78,  37,  94, 271,  69,  56, 116,\n",
       "        22,  82,  12, 181, 175, 158,  27,   9,  21])"
      ]
     },
     "execution_count": 48,
     "metadata": {},
     "output_type": "execute_result"
    }
   ],
   "source": [
    "RUL_hat"
   ]
  },
  {
   "cell_type": "code",
   "execution_count": 44,
   "id": "e434a825",
   "metadata": {},
   "outputs": [
    {
     "data": {
      "text/plain": [
       "array([ 44,  51,  27, 120, 101,  99,  71,  55,  55,  66,  77, 115, 115,\n",
       "        31, 108,  56, 136, 132,  85,  56,  18, 119,  78,   9,  58,  11,\n",
       "        88, 144, 124,  89,  79,  55,  71,  65,  87, 137, 145,  22,   8,\n",
       "        41, 131, 115, 128,  69, 111,   7, 137,  55, 135,  11,  78, 120,\n",
       "        87,  87,  55,  93,  88,  40,  49, 128, 129,  58, 117,  28, 115,\n",
       "        87,  92, 103, 100,  63,  35,  45,  99, 117,  45,  27,  86,  20,\n",
       "        18, 133,  15,   6, 145, 104,  56,  25,  68, 144,  41,  51,  81,\n",
       "        14,  67,  10, 127, 113, 123,  17,   8,  28], dtype=int64)"
      ]
     },
     "execution_count": 44,
     "metadata": {},
     "output_type": "execute_result"
    }
   ],
   "source": [
    "#RUL\n",
    "path = DATA_PATH+'RUL.csv'\n",
    "RUL_frame = pd.read_csv(path, header=None)\n",
    "RUL = RUL_frame.values[:, 0]\n",
    "RUL"
   ]
  },
  {
   "cell_type": "code",
   "execution_count": 47,
   "id": "5f42bff1",
   "metadata": {},
   "outputs": [
    {
     "data": {
      "text/plain": [
       "3936"
      ]
     },
     "execution_count": 47,
     "metadata": {},
     "output_type": "execute_result"
    }
   ],
   "source": [
    "np.sum(abs(RUL_hat-RUL))-400"
   ]
  },
  {
   "cell_type": "code",
   "execution_count": 49,
   "id": "5a0f8bfa",
   "metadata": {},
   "outputs": [
    {
     "data": {
      "text/plain": [
       "[array([0., 1.]),\n",
       " array([1., 0.]),\n",
       " array([0., 1.]),\n",
       " array([1., 0.]),\n",
       " array([0., 1.]),\n",
       " array([1., 0.]),\n",
       " array([1., 0.]),\n",
       " array([1., 0.]),\n",
       " array([1., 0.]),\n",
       " array([1., 0.]),\n",
       " array([1., 0.]),\n",
       " array([1., 0.]),\n",
       " array([1., 0.]),\n",
       " array([1., 0.]),\n",
       " array([0., 1.]),\n",
       " array([0., 1.]),\n",
       " array([0., 1.]),\n",
       " array([0., 1.]),\n",
       " array([1., 0.]),\n",
       " array([0., 1.]),\n",
       " array([0., 1.]),\n",
       " array([0., 1.]),\n",
       " array([0., 1.]),\n",
       " array([0., 1.]),\n",
       " array([1., 0.]),\n",
       " array([1., 0.]),\n",
       " array([0., 1.]),\n",
       " array([1., 0.]),\n",
       " array([1., 0.]),\n",
       " array([0., 1.]),\n",
       " array([1., 0.]),\n",
       " array([1., 0.]),\n",
       " array([1., 0.]),\n",
       " array([1., 0.]),\n",
       " array([0., 1.]),\n",
       " array([1., 0.]),\n",
       " array([1., 0.]),\n",
       " array([1., 0.]),\n",
       " array([0., 1.]),\n",
       " array([0., 1.]),\n",
       " array([0., 1.]),\n",
       " array([1., 0.]),\n",
       " array([0., 1.]),\n",
       " array([1., 0.]),\n",
       " array([1., 0.]),\n",
       " array([0., 1.]),\n",
       " array([1., 0.]),\n",
       " array([1., 0.]),\n",
       " array([0., 1.]),\n",
       " array([1., 0.]),\n",
       " array([1., 0.]),\n",
       " array([1., 0.]),\n",
       " array([1., 0.]),\n",
       " array([1., 0.]),\n",
       " array([1., 0.]),\n",
       " array([1., 0.]),\n",
       " array([1., 0.]),\n",
       " array([1., 0.]),\n",
       " array([1., 0.]),\n",
       " array([1., 0.]),\n",
       " array([0., 1.]),\n",
       " array([0., 1.]),\n",
       " array([0., 1.]),\n",
       " array([0., 1.]),\n",
       " array([1., 0.]),\n",
       " array([1., 0.]),\n",
       " array([0., 1.]),\n",
       " array([0., 1.]),\n",
       " array([1., 0.]),\n",
       " array([1., 0.]),\n",
       " array([0., 1.]),\n",
       " array([0., 1.]),\n",
       " array([1., 0.]),\n",
       " array([0., 1.]),\n",
       " array([0., 1.]),\n",
       " array([1., 0.]),\n",
       " array([0., 1.]),\n",
       " array([0., 1.]),\n",
       " array([1., 0.]),\n",
       " array([0., 1.]),\n",
       " array([0., 1.]),\n",
       " array([0., 1.]),\n",
       " array([1., 0.]),\n",
       " array([1., 0.]),\n",
       " array([0., 1.]),\n",
       " array([1., 0.]),\n",
       " array([1., 0.]),\n",
       " array([1., 0.]),\n",
       " array([0., 1.]),\n",
       " array([1., 0.]),\n",
       " array([1., 0.]),\n",
       " array([0., 1.]),\n",
       " array([0., 1.]),\n",
       " array([0., 1.]),\n",
       " array([0., 1.]),\n",
       " array([0., 1.]),\n",
       " array([1., 0.]),\n",
       " array([1., 0.]),\n",
       " array([0., 1.]),\n",
       " array([0., 1.])]"
      ]
     },
     "execution_count": 49,
     "metadata": {},
     "output_type": "execute_result"
    }
   ],
   "source": [
    "mode_true"
   ]
  },
  {
   "cell_type": "markdown",
   "id": "a2641716",
   "metadata": {},
   "source": [
    "# 第i个in_unit"
   ]
  },
  {
   "cell_type": "code",
   "execution_count": 6,
   "id": "b5dac9ae",
   "metadata": {},
   "outputs": [],
   "source": [
    "result_args_a = np.load('./numpy/arg_all_result041001_a.npy',allow_pickle=True).tolist()\n",
    "result_args_b = np.load('./numpy/arg_all_result041001_b.npy',allow_pickle=True).tolist()"
   ]
  },
  {
   "cell_type": "code",
   "execution_count": 34,
   "id": "8e3db853",
   "metadata": {},
   "outputs": [],
   "source": [
    "num_unit = 1"
   ]
  },
  {
   "cell_type": "code",
   "execution_count": 35,
   "id": "30aa08a9",
   "metadata": {},
   "outputs": [
    {
     "data": {
      "text/plain": [
       "array([1., 0.])"
      ]
     },
     "execution_count": 35,
     "metadata": {},
     "output_type": "execute_result"
    }
   ],
   "source": [
    "test_dataset[num_unit][\"mode\"]"
   ]
  },
  {
   "cell_type": "code",
   "execution_count": 36,
   "id": "95b0e660",
   "metadata": {},
   "outputs": [],
   "source": [
    "hj = np.argmax(test_dataset[num_unit][\"mode\"])\n",
    "# 选取了第二个mode单独的参数\n",
    "selected_args = []\n",
    "args_q = [result_args_a,result_args_b][hj][0]\n",
    "# args_q = result_args_b[0]\n",
    "selected_args.append(1) # dk\n",
    "selected_args.append(args_q[1]) # wk\n",
    "#selected_args.appned(args_q[1])\n",
    "for idx in range(3):\n",
    "    selected_args.append(args_q[-1][idx])\n",
    "# 按照完整的流程计算参数\n",
    "selected_args_all = mode_para_selection(test_dataset[num_unit], [1,1], *args_result)"
   ]
  },
  {
   "cell_type": "code",
   "execution_count": 37,
   "id": "6a5eb57c",
   "metadata": {},
   "outputs": [
    {
     "data": {
      "text/plain": [
       "(53, 54, 51)"
      ]
     },
     "execution_count": 37,
     "metadata": {},
     "output_type": "execute_result"
    }
   ],
   "source": [
    "get_single_RUL(test_dataset[num_unit],*selected_args),get_single_RUL(test_dataset[num_unit],*selected_args_all),RUL[num_unit]"
   ]
  },
  {
   "cell_type": "markdown",
   "id": "ac7354f3",
   "metadata": {},
   "source": [
    "## 看下如果是单独算的效果"
   ]
  },
  {
   "cell_type": "code",
   "execution_count": 38,
   "id": "e21f7c84",
   "metadata": {},
   "outputs": [],
   "source": [
    "w = selected_args[1]\n",
    "mu_q, Sigma_q = get_post_Sigma_q_and_mu_q(test_dataset[num_unit], *selected_args)\n",
    "mu_q_ = selected_args[2]\n",
    "HI_q = test_dataset[num_unit][\"input\"] @ w"
   ]
  },
  {
   "cell_type": "code",
   "execution_count": 39,
   "id": "692cef5a",
   "metadata": {},
   "outputs": [],
   "source": [
    "Phi_q,time_axes = generate_Phi_and_timeaxes(300)"
   ]
  },
  {
   "cell_type": "code",
   "execution_count": 40,
   "id": "fb2ee5b3",
   "metadata": {},
   "outputs": [
    {
     "data": {
      "text/plain": [
       "[<matplotlib.lines.Line2D at 0x26322a6adc0>]"
      ]
     },
     "execution_count": 40,
     "metadata": {},
     "output_type": "execute_result"
    },
    {
     "data": {
      "image/png": "[encoded data removed]",
      "text/plain": [
       "<Figure size 432x288 with 1 Axes>"
      ]
     },
     "metadata": {
      "needs_background": "light"
     },
     "output_type": "display_data"
    }
   ],
   "source": [
    "plt.plot(HI_q) \n",
    "plt.plot(Phi_q @ mu_q)\n",
    "#plt.plot(Phi_q @ mu_q_, color = \"r\")"
   ]
  },
  {
   "cell_type": "markdown",
   "id": "28b22bbd",
   "metadata": {},
   "source": [
    "## 看下一起算的效果"
   ]
  },
  {
   "cell_type": "code",
   "execution_count": 15,
   "id": "c21b6702",
   "metadata": {},
   "outputs": [],
   "source": [
    "w = selected_args_all[1]\n",
    "mu_q, Sigma_q = get_post_Sigma_q_and_mu_q(test_dataset[num_unit], *selected_args_all)\n",
    "mu_q_ = selected_args_all[2]\n",
    "HI_q = test_dataset[num_unit][\"input\"] @ w\n",
    "Phi_q,time_axes = generate_Phi_and_timeaxes(300)"
   ]
  },
  {
   "cell_type": "code",
   "execution_count": 16,
   "id": "76a7142d",
   "metadata": {},
   "outputs": [
    {
     "data": {
      "text/plain": [
       "[<matplotlib.lines.Line2D at 0x2632178eeb0>]"
      ]
     },
     "execution_count": 16,
     "metadata": {},
     "output_type": "execute_result"
    },
    {
     "data": {
      "image/png": "[encoded data removed]",
      "text/plain": [
       "<Figure size 432x288 with 1 Axes>"
      ]
     },
     "metadata": {
      "needs_background": "light"
     },
     "output_type": "display_data"
    }
   ],
   "source": [
    "plt.plot(HI_q) \n",
    "plt.plot(Phi_q @ mu_q)\n",
    "plt.plot(Phi_q @ mu_q_, color = \"r\")"
   ]
  },
  {
   "cell_type": "markdown",
   "id": "75443b17",
   "metadata": {},
   "source": [
    "# 训练集的效果"
   ]
  },
  {
   "cell_type": "code",
   "execution_count": 19,
   "id": "6b95b474",
   "metadata": {},
   "outputs": [],
   "source": [
    "num_unit = 34"
   ]
  },
  {
   "cell_type": "code",
   "execution_count": 20,
   "id": "a13d93c5",
   "metadata": {},
   "outputs": [
    {
     "data": {
      "text/plain": [
       "[<matplotlib.lines.Line2D at 0x26323180d30>]"
      ]
     },
     "execution_count": 20,
     "metadata": {},
     "output_type": "execute_result"
    },
    {
     "data": {
      "image/png": "[encoded data removed]",
      "text/plain": [
       "<Figure size 432x288 with 1 Axes>"
      ]
     },
     "metadata": {
      "needs_background": "light"
     },
     "output_type": "display_data"
    }
   ],
   "source": [
    "w = selected_args_all[1]\n",
    "mu_q, Sigma_q = get_post_Sigma_q_and_mu_q(train_dataset[num_unit], *selected_args_all)\n",
    "mu_q_ = selected_args_all[2]\n",
    "HI_q = train_dataset[num_unit][\"input\"] @ w\n",
    "Phi_q,time_axes = generate_Phi_and_timeaxes(300)\n",
    "plt.plot(HI_q) \n",
    "plt.plot(Phi_q @ mu_q)\n",
    "plt.plot(Phi_q @ mu_q_, color = \"r\")"
   ]
  },
  {
   "cell_type": "code",
   "execution_count": null,
   "id": "f527ea22",
   "metadata": {},
   "outputs": [],
   "source": []
  }
 ],
 "metadata": {
  "kernelspec": {
   "display_name": "Python 3",
   "language": "python",
   "name": "python3"
  },
  "language_info": {
   "codemirror_mode": {
    "name": "ipython",
    "version": 3
   },
   "file_extension": ".py",
   "mimetype": "text/x-python",
   "name": "python",
   "nbconvert_exporter": "python",
   "pygments_lexer": "ipython3",
   "version": "3.8.8"
  }
 },
 "nbformat": 4,
 "nbformat_minor": 5
}
