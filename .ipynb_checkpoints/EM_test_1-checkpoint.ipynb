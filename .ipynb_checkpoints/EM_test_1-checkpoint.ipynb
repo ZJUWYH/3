{
 "cells": [
  {
   "cell_type": "code",
   "execution_count": 1,
   "id": "52093fa9",
   "metadata": {},
   "outputs": [],
   "source": [
    "from EM_part import *"
   ]
  },
  {
   "cell_type": "code",
   "execution_count": 2,
   "id": "5e0bac0d",
   "metadata": {},
   "outputs": [],
   "source": [
    "DATA_PATH = \"./Data_FD003/preprocessed data/\"\n",
    "attribute = ['Unit', 'T24', 'T30', 'T50', 'P30', 'Nf', 'Nc', 'Ps30',\n",
    "             'phi', 'NRf', 'NRc', 'BPR', 'htBleed', 'W31', 'W32']\n",
    "df_train = pd.read_csv(DATA_PATH + 'TD_data.csv', names=attribute, header=None)\n",
    "df_test = pd.read_csv(DATA_PATH + 'Test_data.csv', names=attribute, header=None)\n",
    "\n",
    "df_train = Preprocessing.add_timeseries(df_train)\n",
    "df_test = Preprocessing.add_timeseries(df_test)\n",
    "\n",
    "train_label=pd.read_csv(DATA_PATH +\"TD_mode.csv\", header=None).values\n",
    "test_label=pd.read_csv(DATA_PATH +\"Test_mode.csv\", header=None).values"
   ]
  },
  {
   "cell_type": "code",
   "execution_count": 3,
   "id": "d74aa302",
   "metadata": {},
   "outputs": [],
   "source": [
    "train_dataset=AircraftDataset(df_train,train_label) # 不插0计算创建dataset的子类\n",
    "test_dataset = AircraftDataset(df_test,test_label)\n",
    "\n",
    "train_dataset_mode_a =  AircraftDataset_one_mode(df_train,train_label,-1)\n",
    "train_dataset_mode_b =  AircraftDataset_one_mode(df_train,train_label,1)"
   ]
  },
  {
   "cell_type": "code",
   "execution_count": 4,
   "id": "2375ee91",
   "metadata": {},
   "outputs": [
    {
     "data": {
      "text/plain": [
       "(array([1., 0.]), array([0., 1.]))"
      ]
     },
     "execution_count": 4,
     "metadata": {},
     "output_type": "execute_result"
    }
   ],
   "source": [
    "train_dataset_mode_a[0][\"mode\"],train_dataset_mode_b[0][\"mode\"]"
   ]
  },
  {
   "cell_type": "code",
   "execution_count": 19,
   "id": "6ae6e4ca",
   "metadata": {},
   "outputs": [],
   "source": [
    "set_seed(613)\n",
    "\n",
    "pi_k=np.random.random(size=None)\n",
    "w_k=np.random.rand(6,1)\n",
    "mu_k=np.random.rand(3,1)\n",
    "Sigma_k=generate_rand_psd(3)\n",
    "sigma_k_2=np.random.random(size=None)\n",
    "\n",
    "pi_j=np.random.random(size=None)\n",
    "w_j=np.random.rand(6,1)\n",
    "mu_j=np.random.rand(3,1)\n",
    "Sigma_j=generate_rand_psd(3)\n",
    "sigma_j_2=np.random.random(size=None)\n",
    "\n",
    "# w_2=0.48\n",
    "# pi_2=np.random.random(size=None)\n",
    "# mu_2=np.random.rand(3,1)\n",
    "# Sigma_2=generate_rand_psd(3)\n",
    "# sigma_2_2=np.random.random(size=None)"
   ]
  },
  {
   "cell_type": "code",
   "execution_count": 7,
   "id": "2fce607f",
   "metadata": {},
   "outputs": [
    {
     "data": {
      "text/plain": [
       "array([[1.]])"
      ]
     },
     "execution_count": 7,
     "metadata": {},
     "output_type": "execute_result"
    }
   ],
   "source": [
    "def get_hat_rho_l(x_l,Phi_l,*arg\n",
    "#                   [pi_k, w_k,  mu_k, Sigma_k, sigma_k_2],\n",
    "#                      [pi_k, w_k, mu_k, Sigma_k, sigma_k_2]\n",
    "                 ):\n",
    "    num_mode=len(arg)\n",
    "    ln_numerator_list=[]\n",
    "    for idx in range(num_mode):\n",
    "        [pi_k, w_k,  mu_k, Sigma_k, sigma_k_2] = arg[idx]\n",
    "        ln_numerator_list.append(ln_get_hat_rho_k_numerator(x_l, Phi_l, pi_k,\n",
    "                                                            w_k,  mu_k,\n",
    "                                                            Sigma_k, sigma_k_2))\n",
    "    sorted_list=np.sort(ln_numerator_list)[::-1]\n",
    "    if np.abs(sorted_list[0]-sorted_list[-1])>5:\n",
    "        max_idx = np.argmax(ln_numerator_list)\n",
    "        hat_rho_l = np.zeros((num_mode,1))\n",
    "        hat_rho_l[max_idx] = 1\n",
    "        return hat_rho_l\n",
    "    else:\n",
    "        hat_rho_l_list=[]\n",
    "        for idx in range(num_mode):\n",
    "            denominator = 0\n",
    "            for idx_ in range(num_mode):\n",
    "                denominator+=np.exp(ln_numerator_list[idx_]-ln_numerator_list[idx])\n",
    "            hat_rho_l_list.append(1 / denominator.item())\n",
    "        return np.array(hat_rho_l_list).reshape(num_mode,1)\n",
    "\n",
    "get_hat_rho_l(x_l,Phi_l,\n",
    "                 [pi_k, w_k,  mu_k, Sigma_k, sigma_k_2]\n",
    "                      \n",
    "                 )"
   ]
  },
  {
   "cell_type": "code",
   "execution_count": 13,
   "id": "13f55617",
   "metadata": {},
   "outputs": [],
   "source": [
    "inv=32\n",
    "x_l=train_dataset_mode_b[inv][\"input\"]\n",
    "Phi_l=train_dataset_mode_b[inv][\"Phi_l\"]"
   ]
  },
  {
   "cell_type": "code",
   "execution_count": 22,
   "id": "6feb4146",
   "metadata": {},
   "outputs": [],
   "source": [
    "instance = train_dataset_mode_b\n",
    "arg = [[pi_j, w_j,  mu_j, Sigma_j, sigma_j_2]]\n",
    "num_mode = len(arg)"
   ]
  },
  {
   "cell_type": "code",
   "execution_count": 51,
   "id": "1faf09a1",
   "metadata": {},
   "outputs": [],
   "source": [
    "old_w = []\n",
    "old_mu = []\n",
    "old_Sigma = []\n",
    "old_sigma_2 = []\n",
    "for idx in range(num_mode):\n",
    "    old_w.append(arg[idx][1])\n",
    "    old_mu.append(arg[idx][2])\n",
    "    old_Sigma.append(arg[idx][3])\n",
    "    old_sigma_2.append(arg[idx][4])\n",
    "old_w = np.array(old_w)\n",
    "old_mu = np.array(old_mu)\n",
    "old_Sigma = np.array(old_Sigma)\n",
    "old_sigma_2 = np.array(old_sigma_2)\n",
    "\n",
    "updated_w = get_new_w_k_list(instance, *arg)\n",
    "for idx in range(num_mode):\n",
    "    arg[idx][1] = updated_w[idx]\n",
    "\n",
    "updated_pi_k = get_N_k_and_hat_pi_k(instance, *arg)[1]\n",
    "updated_mu = get_new_mu_list(instance, *arg)  # num_mode*3*1\n",
    "updated_Sigma = get_new_Sigma_K_list(instance, *arg)\n",
    "updated_sigma_2 = get_new_sigma_k_2_list(instance, *arg)\n",
    "\n",
    "loss_w = (np.square(old_w - updated_w)).mean().item()\n",
    "loss_mu = (np.square(old_mu - updated_mu)).mean().item()\n",
    "loss_Sigma = (np.square(old_Sigma - updated_Sigma)).mean().item()\n",
    "loss_sigma_2 = (np.square(old_sigma_2 - updated_sigma_2)).mean().item()\n",
    "\n",
    "for idx in range(num_mode):\n",
    "    arg[idx][0] = updated_pi_k[idx]\n",
    "    arg[idx][2] = updated_mu[idx]\n",
    "    arg[idx][3] = updated_Sigma[idx]\n",
    "    arg[idx][4] = updated_sigma_2[idx]"
   ]
  },
  {
   "cell_type": "code",
   "execution_count": 56,
   "id": "6b03e3f3",
   "metadata": {},
   "outputs": [
    {
     "data": {
      "text/plain": [
       "[array([1.]),\n",
       " array([[-0.26277003],\n",
       "        [ 3.36193867],\n",
       "        [-0.43534186],\n",
       "        [-2.91294644],\n",
       "        [ 2.89379109],\n",
       "        [-3.03367739]]),\n",
       " array([[ 0.60444151],\n",
       "        [-0.0452041 ],\n",
       "        [ 0.00241464]]),\n",
       " array([[ 9.34432394e-03, -1.23105183e-03,  3.70596317e-05],\n",
       "        [-1.23105183e-03,  3.19993143e-04, -3.02091035e-06],\n",
       "        [ 3.70596317e-05, -3.02091035e-06,  6.73125327e-06]]),\n",
       " array([20])]"
      ]
     },
     "execution_count": 56,
     "metadata": {},
     "output_type": "execute_result"
    }
   ],
   "source": [
    "arg2=arg[0]\n",
    "arg2[-1]=np.array([20])\n",
    "arg2"
   ]
  },
  {
   "cell_type": "code",
   "execution_count": 6,
   "id": "b91fefff",
   "metadata": {},
   "outputs": [
    {
     "name": "stdout",
     "output_type": "stream",
     "text": [
      "converge!, itr=8\n"
     ]
    }
   ],
   "source": [
    "arg1=EM_iteration(train_dataset_mode_a, 100, 0.001, [pi_k, w_k,  mu_k, Sigma_k, sigma_k_2])"
   ]
  },
  {
   "cell_type": "code",
   "execution_count": 21,
   "id": "8f075f42",
   "metadata": {},
   "outputs": [
    {
     "name": "stdout",
     "output_type": "stream",
     "text": [
      "itr=10,loss=4438.547931222325\n",
      "itr=20,loss=3.734894011359676e+29\n"
     ]
    },
    {
     "ename": "KeyboardInterrupt",
     "evalue": "",
     "output_type": "error",
     "traceback": [
      "\u001b[1;31m---------------------------------------------------------------------------\u001b[0m",
      "\u001b[1;31mKeyboardInterrupt\u001b[0m                         Traceback (most recent call last)",
      "\u001b[1;32m<ipython-input-21-de23e2eb8440>\u001b[0m in \u001b[0;36m<module>\u001b[1;34m\u001b[0m\n\u001b[1;32m----> 1\u001b[1;33m \u001b[0marg2\u001b[0m\u001b[1;33m=\u001b[0m\u001b[0mEM_iteration\u001b[0m\u001b[1;33m(\u001b[0m\u001b[0mtrain_dataset_mode_b\u001b[0m\u001b[1;33m,\u001b[0m \u001b[1;36m100\u001b[0m\u001b[1;33m,\u001b[0m \u001b[1;36m0.001\u001b[0m\u001b[1;33m,\u001b[0m \u001b[1;33m[\u001b[0m\u001b[0mpi_j\u001b[0m\u001b[1;33m,\u001b[0m \u001b[0mw_j\u001b[0m\u001b[1;33m,\u001b[0m  \u001b[0mmu_j\u001b[0m\u001b[1;33m,\u001b[0m \u001b[0mSigma_j\u001b[0m\u001b[1;33m,\u001b[0m \u001b[0msigma_j_2\u001b[0m\u001b[1;33m]\u001b[0m\u001b[1;33m)\u001b[0m\u001b[1;33m\u001b[0m\u001b[1;33m\u001b[0m\u001b[0m\n\u001b[0m",
      "\u001b[1;32m~\\Documents\\yh.wang\\3\\EM_part.py\u001b[0m in \u001b[0;36mEM_iteration\u001b[1;34m(instance, iteration, limitation, *arg)\u001b[0m\n\u001b[0;32m    227\u001b[0m         \u001b[0mupdated_pi_k\u001b[0m \u001b[1;33m=\u001b[0m \u001b[0mget_N_k_and_hat_pi_k\u001b[0m\u001b[1;33m(\u001b[0m\u001b[0minstance\u001b[0m\u001b[1;33m,\u001b[0m \u001b[1;33m*\u001b[0m\u001b[0marg\u001b[0m\u001b[1;33m)\u001b[0m\u001b[1;33m[\u001b[0m\u001b[1;36m1\u001b[0m\u001b[1;33m]\u001b[0m\u001b[1;33m\u001b[0m\u001b[1;33m\u001b[0m\u001b[0m\n\u001b[0;32m    228\u001b[0m         \u001b[0mupdated_mu\u001b[0m \u001b[1;33m=\u001b[0m \u001b[0mget_new_mu_list\u001b[0m\u001b[1;33m(\u001b[0m\u001b[0minstance\u001b[0m\u001b[1;33m,\u001b[0m \u001b[1;33m*\u001b[0m\u001b[0marg\u001b[0m\u001b[1;33m)\u001b[0m  \u001b[1;31m# num_mode*3*1\u001b[0m\u001b[1;33m\u001b[0m\u001b[1;33m\u001b[0m\u001b[0m\n\u001b[1;32m--> 229\u001b[1;33m         \u001b[0mupdated_Sigma\u001b[0m \u001b[1;33m=\u001b[0m \u001b[0mget_new_Sigma_K_list\u001b[0m\u001b[1;33m(\u001b[0m\u001b[0minstance\u001b[0m\u001b[1;33m,\u001b[0m \u001b[1;33m*\u001b[0m\u001b[0marg\u001b[0m\u001b[1;33m)\u001b[0m\u001b[1;33m\u001b[0m\u001b[1;33m\u001b[0m\u001b[0m\n\u001b[0m\u001b[0;32m    230\u001b[0m         \u001b[0mupdated_sigma_2\u001b[0m \u001b[1;33m=\u001b[0m \u001b[0mget_new_sigma_k_2_list\u001b[0m\u001b[1;33m(\u001b[0m\u001b[0minstance\u001b[0m\u001b[1;33m,\u001b[0m \u001b[1;33m*\u001b[0m\u001b[0marg\u001b[0m\u001b[1;33m)\u001b[0m\u001b[1;33m\u001b[0m\u001b[1;33m\u001b[0m\u001b[0m\n\u001b[0;32m    231\u001b[0m \u001b[1;33m\u001b[0m\u001b[0m\n",
      "\u001b[1;32m~\\Documents\\yh.wang\\3\\EM_part.py\u001b[0m in \u001b[0;36mget_new_Sigma_K_list\u001b[1;34m(instance, *arg)\u001b[0m\n\u001b[0;32m    133\u001b[0m     \"\"\"\n\u001b[0;32m    134\u001b[0m     \u001b[0mnum_mode\u001b[0m \u001b[1;33m=\u001b[0m \u001b[0mlen\u001b[0m\u001b[1;33m(\u001b[0m\u001b[0marg\u001b[0m\u001b[1;33m)\u001b[0m\u001b[1;33m\u001b[0m\u001b[1;33m\u001b[0m\u001b[0m\n\u001b[1;32m--> 135\u001b[1;33m     \u001b[0mmu_list\u001b[0m \u001b[1;33m=\u001b[0m \u001b[0mget_new_mu_list\u001b[0m\u001b[1;33m(\u001b[0m\u001b[0minstance\u001b[0m\u001b[1;33m,\u001b[0m \u001b[1;33m*\u001b[0m\u001b[0marg\u001b[0m\u001b[1;33m)\u001b[0m\u001b[1;33m\u001b[0m\u001b[1;33m\u001b[0m\u001b[0m\n\u001b[0m\u001b[0;32m    136\u001b[0m     \u001b[0mSigma_list\u001b[0m \u001b[1;33m=\u001b[0m \u001b[1;33m[\u001b[0m\u001b[1;33m]\u001b[0m\u001b[1;33m\u001b[0m\u001b[1;33m\u001b[0m\u001b[0m\n\u001b[0;32m    137\u001b[0m     \u001b[1;32mfor\u001b[0m \u001b[0midx\u001b[0m \u001b[1;32min\u001b[0m \u001b[0mrange\u001b[0m\u001b[1;33m(\u001b[0m\u001b[0mnum_mode\u001b[0m\u001b[1;33m)\u001b[0m\u001b[1;33m:\u001b[0m\u001b[1;33m\u001b[0m\u001b[1;33m\u001b[0m\u001b[0m\n",
      "\u001b[1;32m~\\Documents\\yh.wang\\3\\EM_part.py\u001b[0m in \u001b[0;36mget_new_mu_list\u001b[1;34m(instance, *arg)\u001b[0m\n\u001b[0;32m    114\u001b[0m         \u001b[1;32mfor\u001b[0m \u001b[0ml\u001b[0m \u001b[1;32min\u001b[0m \u001b[0mrange\u001b[0m\u001b[1;33m(\u001b[0m\u001b[0mlen\u001b[0m\u001b[1;33m(\u001b[0m\u001b[0minstance\u001b[0m\u001b[1;33m)\u001b[0m\u001b[1;33m)\u001b[0m\u001b[1;33m:\u001b[0m\u001b[1;33m\u001b[0m\u001b[1;33m\u001b[0m\u001b[0m\n\u001b[0;32m    115\u001b[0m             \u001b[1;33m[\u001b[0m\u001b[0mpi_k\u001b[0m\u001b[1;33m,\u001b[0m \u001b[0mw_k\u001b[0m\u001b[1;33m,\u001b[0m \u001b[0mmu_k\u001b[0m\u001b[1;33m,\u001b[0m \u001b[0mSigma_k\u001b[0m\u001b[1;33m,\u001b[0m \u001b[0msigma_k_2\u001b[0m\u001b[1;33m]\u001b[0m \u001b[1;33m=\u001b[0m \u001b[0marg\u001b[0m\u001b[1;33m[\u001b[0m\u001b[0midx\u001b[0m\u001b[1;33m]\u001b[0m\u001b[1;33m\u001b[0m\u001b[1;33m\u001b[0m\u001b[0m\n\u001b[1;32m--> 116\u001b[1;33m             \u001b[0mx_l\u001b[0m \u001b[1;33m=\u001b[0m \u001b[0minstance\u001b[0m\u001b[1;33m[\u001b[0m\u001b[0ml\u001b[0m\u001b[1;33m]\u001b[0m\u001b[1;33m[\u001b[0m\u001b[1;34m\"input\"\u001b[0m\u001b[1;33m]\u001b[0m\u001b[1;33m\u001b[0m\u001b[1;33m\u001b[0m\u001b[0m\n\u001b[0m\u001b[0;32m    117\u001b[0m             \u001b[0mPhi_l\u001b[0m \u001b[1;33m=\u001b[0m \u001b[0minstance\u001b[0m\u001b[1;33m[\u001b[0m\u001b[0ml\u001b[0m\u001b[1;33m]\u001b[0m\u001b[1;33m[\u001b[0m\u001b[1;34m\"Phi_l\"\u001b[0m\u001b[1;33m]\u001b[0m\u001b[1;33m\u001b[0m\u001b[1;33m\u001b[0m\u001b[0m\n\u001b[0;32m    118\u001b[0m             \u001b[0mrho_l_k\u001b[0m \u001b[1;33m=\u001b[0m \u001b[0mget_hat_rho_l\u001b[0m\u001b[1;33m(\u001b[0m\u001b[0mx_l\u001b[0m\u001b[1;33m,\u001b[0m \u001b[0mPhi_l\u001b[0m\u001b[1;33m,\u001b[0m \u001b[1;33m*\u001b[0m\u001b[0marg\u001b[0m\u001b[1;33m)\u001b[0m\u001b[1;33m[\u001b[0m\u001b[0midx\u001b[0m\u001b[1;33m]\u001b[0m\u001b[1;33m\u001b[0m\u001b[1;33m\u001b[0m\u001b[0m\n",
      "\u001b[1;32m~\\Documents\\yh.wang\\3\\utilities.py\u001b[0m in \u001b[0;36m__getitem__\u001b[1;34m(self, idx)\u001b[0m\n\u001b[0;32m    116\u001b[0m     \u001b[1;32mdef\u001b[0m \u001b[0m__getitem__\u001b[0m\u001b[1;33m(\u001b[0m\u001b[0mself\u001b[0m\u001b[1;33m,\u001b[0m \u001b[0midx\u001b[0m\u001b[1;33m)\u001b[0m\u001b[1;33m:\u001b[0m\u001b[1;33m\u001b[0m\u001b[1;33m\u001b[0m\u001b[0m\n\u001b[0;32m    117\u001b[0m         \u001b[0mmode_index\u001b[0m \u001b[1;33m=\u001b[0m \u001b[0mself\u001b[0m\u001b[1;33m.\u001b[0m\u001b[0mmode_index\u001b[0m\u001b[1;33m[\u001b[0m\u001b[0midx\u001b[0m\u001b[1;33m]\u001b[0m\u001b[1;33m\u001b[0m\u001b[1;33m\u001b[0m\u001b[0m\n\u001b[1;32m--> 118\u001b[1;33m         \u001b[1;32mreturn\u001b[0m \u001b[0msuper\u001b[0m\u001b[1;33m(\u001b[0m\u001b[1;33m)\u001b[0m\u001b[1;33m.\u001b[0m\u001b[0m__getitem__\u001b[0m\u001b[1;33m(\u001b[0m\u001b[0mmode_index\u001b[0m\u001b[1;33m)\u001b[0m\u001b[1;33m\u001b[0m\u001b[1;33m\u001b[0m\u001b[0m\n\u001b[0m",
      "\u001b[1;32m~\\Documents\\yh.wang\\3\\utilities.py\u001b[0m in \u001b[0;36m__getitem__\u001b[1;34m(self, idx)\u001b[0m\n\u001b[0;32m     92\u001b[0m             \u001b[0msingle_sensor\u001b[0m \u001b[1;33m=\u001b[0m \u001b[0mnp\u001b[0m\u001b[1;33m.\u001b[0m\u001b[0marray\u001b[0m\u001b[1;33m(\u001b[0m\u001b[0mself\u001b[0m\u001b[1;33m.\u001b[0m\u001b[0mdf\u001b[0m\u001b[1;33m[\u001b[0m\u001b[0msensor_name\u001b[0m\u001b[1;33m]\u001b[0m\u001b[1;33m.\u001b[0m\u001b[0mvalues\u001b[0m\u001b[1;33m.\u001b[0m\u001b[0mtolist\u001b[0m\u001b[1;33m(\u001b[0m\u001b[1;33m)\u001b[0m\u001b[1;33m[\u001b[0m\u001b[0midx\u001b[0m\u001b[1;33m]\u001b[0m\u001b[1;33m)\u001b[0m\u001b[1;33m[\u001b[0m\u001b[1;33m:\u001b[0m\u001b[1;33m,\u001b[0m \u001b[1;32mNone\u001b[0m\u001b[1;33m]\u001b[0m\u001b[1;33m\u001b[0m\u001b[1;33m\u001b[0m\u001b[0m\n\u001b[0;32m     93\u001b[0m             \u001b[1;31m# data[sensor_name] = torch.tensor(single_sensor, dtype=torch.float)\u001b[0m\u001b[1;33m\u001b[0m\u001b[1;33m\u001b[0m\u001b[1;33m\u001b[0m\u001b[0m\n\u001b[1;32m---> 94\u001b[1;33m         \u001b[0mmulti_sensor\u001b[0m \u001b[1;33m=\u001b[0m \u001b[0mnp\u001b[0m\u001b[1;33m.\u001b[0m\u001b[0mvstack\u001b[0m\u001b[1;33m(\u001b[0m\u001b[0mmulti_sensor\u001b[0m\u001b[1;33m)\u001b[0m\u001b[1;33m.\u001b[0m\u001b[0mtranspose\u001b[0m\u001b[1;33m(\u001b[0m\u001b[1;36m1\u001b[0m\u001b[1;33m,\u001b[0m \u001b[1;36m0\u001b[0m\u001b[1;33m)\u001b[0m\u001b[1;33m\u001b[0m\u001b[1;33m\u001b[0m\u001b[0m\n\u001b[0m\u001b[0;32m     95\u001b[0m         \u001b[0mdata\u001b[0m\u001b[1;33m[\u001b[0m\u001b[1;34m\"input\"\u001b[0m\u001b[1;33m]\u001b[0m \u001b[1;33m=\u001b[0m \u001b[0mnp\u001b[0m\u001b[1;33m.\u001b[0m\u001b[0marray\u001b[0m\u001b[1;33m(\u001b[0m\u001b[0mmulti_sensor\u001b[0m\u001b[1;33m,\u001b[0m \u001b[0mdtype\u001b[0m\u001b[1;33m=\u001b[0m\u001b[0mnp\u001b[0m\u001b[1;33m.\u001b[0m\u001b[0mfloat64\u001b[0m\u001b[1;33m)\u001b[0m\u001b[1;33m\u001b[0m\u001b[1;33m\u001b[0m\u001b[0m\n\u001b[0;32m     96\u001b[0m         \u001b[0mdata\u001b[0m\u001b[1;33m[\u001b[0m\u001b[1;34m\"lifetime\"\u001b[0m\u001b[1;33m]\u001b[0m \u001b[1;33m=\u001b[0m \u001b[0mnp\u001b[0m\u001b[1;33m.\u001b[0m\u001b[0marray\u001b[0m\u001b[1;33m(\u001b[0m\u001b[0mlen\u001b[0m\u001b[1;33m(\u001b[0m\u001b[0mmulti_sensor\u001b[0m\u001b[1;33m)\u001b[0m\u001b[1;33m,\u001b[0m \u001b[0mdtype\u001b[0m\u001b[1;33m=\u001b[0m\u001b[0mnp\u001b[0m\u001b[1;33m.\u001b[0m\u001b[0mint64\u001b[0m\u001b[1;33m)\u001b[0m\u001b[1;33m\u001b[0m\u001b[1;33m\u001b[0m\u001b[0m\n",
      "\u001b[1;32m<__array_function__ internals>\u001b[0m in \u001b[0;36mvstack\u001b[1;34m(*args, **kwargs)\u001b[0m\n",
      "\u001b[1;32mC:\\ProgramData\\Anaconda3\\lib\\site-packages\\numpy\\core\\shape_base.py\u001b[0m in \u001b[0;36mvstack\u001b[1;34m(tup)\u001b[0m\n\u001b[0;32m    281\u001b[0m     \u001b[1;32mif\u001b[0m \u001b[1;32mnot\u001b[0m \u001b[0misinstance\u001b[0m\u001b[1;33m(\u001b[0m\u001b[0marrs\u001b[0m\u001b[1;33m,\u001b[0m \u001b[0mlist\u001b[0m\u001b[1;33m)\u001b[0m\u001b[1;33m:\u001b[0m\u001b[1;33m\u001b[0m\u001b[1;33m\u001b[0m\u001b[0m\n\u001b[0;32m    282\u001b[0m         \u001b[0marrs\u001b[0m \u001b[1;33m=\u001b[0m \u001b[1;33m[\u001b[0m\u001b[0marrs\u001b[0m\u001b[1;33m]\u001b[0m\u001b[1;33m\u001b[0m\u001b[1;33m\u001b[0m\u001b[0m\n\u001b[1;32m--> 283\u001b[1;33m     \u001b[1;32mreturn\u001b[0m \u001b[0m_nx\u001b[0m\u001b[1;33m.\u001b[0m\u001b[0mconcatenate\u001b[0m\u001b[1;33m(\u001b[0m\u001b[0marrs\u001b[0m\u001b[1;33m,\u001b[0m \u001b[1;36m0\u001b[0m\u001b[1;33m)\u001b[0m\u001b[1;33m\u001b[0m\u001b[1;33m\u001b[0m\u001b[0m\n\u001b[0m\u001b[0;32m    284\u001b[0m \u001b[1;33m\u001b[0m\u001b[0m\n\u001b[0;32m    285\u001b[0m \u001b[1;33m\u001b[0m\u001b[0m\n",
      "\u001b[1;32m<__array_function__ internals>\u001b[0m in \u001b[0;36mconcatenate\u001b[1;34m(*args, **kwargs)\u001b[0m\n",
      "\u001b[1;31mKeyboardInterrupt\u001b[0m: "
     ]
    }
   ],
   "source": [
    "arg2=EM_iteration(train_dataset_mode_b, 100, 0.001, [pi_j, w_j,  mu_j, Sigma_j, sigma_j_2])"
   ]
  },
  {
   "cell_type": "code",
   "execution_count": 57,
   "id": "93f83800",
   "metadata": {},
   "outputs": [],
   "source": [
    "np.save('./numpy/arg1.npy',np.array(arg1,dtype=object).reshape(-1))\n",
    "np.save('./numpy/arg2.npy',np.array(arg2,dtype=object).reshape(-1))"
   ]
  },
  {
   "cell_type": "code",
   "execution_count": 58,
   "id": "c7d3a539",
   "metadata": {},
   "outputs": [],
   "source": [
    "arg_1=[np.load('./numpy/arg1.npy',allow_pickle=True)[i] for i in range(5)]\n",
    "arg_2=[np.load('./numpy/arg2.npy',allow_pickle=True)[i] for i in range(5)]\n",
    "arg_1[0]=np.array([0.53])\n",
    "arg_2[0]=np.array([0.47])"
   ]
  },
  {
   "cell_type": "code",
   "execution_count": 59,
   "id": "b1c3e5db",
   "metadata": {},
   "outputs": [
    {
     "data": {
      "text/plain": [
       "([array([0.53]),\n",
       "  array([[ 0.05035139],\n",
       "         [ 0.01534575],\n",
       "         [ 0.00103662],\n",
       "         [-0.11407601],\n",
       "         [ 0.15346991],\n",
       "         [-0.43868717]]),\n",
       "  array([[ 0.48909126],\n",
       "         [-0.02458209],\n",
       "         [ 0.00272191]]),\n",
       "  array([[ 5.73567785e-03, -1.14175009e-03,  5.12084317e-05],\n",
       "         [-1.14175009e-03,  3.64451713e-04, -1.23774971e-05],\n",
       "         [ 5.12084317e-05, -1.23774971e-05,  5.72251389e-06]]),\n",
       "  array([18.72508017])],\n",
       " [array([0.47]),\n",
       "  array([[-0.26277003],\n",
       "         [ 3.36193867],\n",
       "         [-0.43534186],\n",
       "         [-2.91294644],\n",
       "         [ 2.89379109],\n",
       "         [-3.03367739]]),\n",
       "  array([[ 0.60444151],\n",
       "         [-0.0452041 ],\n",
       "         [ 0.00241464]]),\n",
       "  array([[ 9.34432394e-03, -1.23105183e-03,  3.70596317e-05],\n",
       "         [-1.23105183e-03,  3.19993143e-04, -3.02091035e-06],\n",
       "         [ 3.70596317e-05, -3.02091035e-06,  6.73125327e-06]]),\n",
       "  array([20])])"
      ]
     },
     "execution_count": 59,
     "metadata": {},
     "output_type": "execute_result"
    }
   ],
   "source": [
    "arg_1,arg_2"
   ]
  },
  {
   "cell_type": "code",
   "execution_count": 63,
   "id": "6e6d3981",
   "metadata": {},
   "outputs": [
    {
     "data": {
      "text/plain": [
       "(array([[1.],\n",
       "        [0.]]),\n",
       " array([0., 1.]))"
      ]
     },
     "execution_count": 63,
     "metadata": {},
     "output_type": "execute_result"
    }
   ],
   "source": [
    "idx=3\n",
    "instance=train_dataset_mode_b\n",
    "x_q = instance[idx][\"input\"]\n",
    "Phi_q = instance[idx][\"Phi_l\"]\n",
    "get_hat_rho_l(x_q, Phi_q, arg_1,arg_2),instance[idx]['mode']"
   ]
  },
  {
   "cell_type": "code",
   "execution_count": null,
   "id": "957fa2b2",
   "metadata": {},
   "outputs": [],
   "source": [
    "EM_iteration(train_dataset, 100, 1, arg_1,arg_2)"
   ]
  },
  {
   "cell_type": "code",
   "execution_count": null,
   "id": "662e56b8",
   "metadata": {},
   "outputs": [],
   "source": [
    "arg_1,arg_2"
   ]
  },
  {
   "cell_type": "code",
   "execution_count": 2,
   "id": "891f92a4",
   "metadata": {},
   "outputs": [
    {
     "name": "stdout",
     "output_type": "stream",
     "text": [
      "nbnbnbnb\n"
     ]
    }
   ],
   "source": [
    "print(\"nbnbnbnb\")"
   ]
  },
  {
   "cell_type": "code",
   "execution_count": null,
   "id": "0f07229c",
   "metadata": {},
   "outputs": [],
   "source": []
  }
 ],
 "metadata": {
  "kernelspec": {
   "display_name": "Python 3",
   "language": "python",
   "name": "python3"
  },
  "language_info": {
   "codemirror_mode": {
    "name": "ipython",
    "version": 3
   },
   "file_extension": ".py",
   "mimetype": "text/x-python",
   "name": "python",
   "nbconvert_exporter": "python",
   "pygments_lexer": "ipython3",
   "version": "3.8.8"
  }
 },
 "nbformat": 4,
 "nbformat_minor": 5
}
