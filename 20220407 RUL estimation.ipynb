{
 "cells": [
  {
   "cell_type": "code",
   "execution_count": 1,
   "id": "570966c1",
   "metadata": {},
   "outputs": [],
   "source": [
    "from EM_part import *"
   ]
  },
  {
   "cell_type": "code",
   "execution_count": 2,
   "id": "f4153b79",
   "metadata": {},
   "outputs": [],
   "source": [
    "args_result = np.load('./numpy/arg_all_result041201.npy',allow_pickle=True).tolist()"
   ]
  },
  {
   "cell_type": "code",
   "execution_count": 3,
   "id": "1f276bab",
   "metadata": {},
   "outputs": [
    {
     "data": {
      "text/plain": [
       "[[0.56,\n",
       "  array([[ 0.13848921],\n",
       "         [ 0.09714998],\n",
       "         [ 0.17688305],\n",
       "         [ 0.04271415],\n",
       "         [ 0.26635781],\n",
       "         [-0.0329182 ]]),\n",
       "  [array([[0.76710826],\n",
       "          [0.05062531],\n",
       "          [4.67134601]]),\n",
       "   array([[ 0.14396583, -0.07979323, -0.29058896],\n",
       "          [-0.07979323,  0.2703215 ,  0.24254395],\n",
       "          [-0.29058896,  0.24254395,  1.77014481]]),\n",
       "   0.06595832023554629],\n",
       "  [array([[ 0.7986125 ],\n",
       "          [-0.015506  ],\n",
       "          [ 4.35970845]]),\n",
       "   array([[ 0.12037906, -0.01952636, -0.44914114],\n",
       "          [-0.01952636,  0.24281368, -0.10533364],\n",
       "          [-0.44914114, -0.10533364,  3.04472004]]),\n",
       "   0.06485961631249063],\n",
       "  [array([[ 0.56735183],\n",
       "          [-0.09888943],\n",
       "          [ 6.31679006]]),\n",
       "   array([[ 0.1197014 , -0.07407517, -0.37007806],\n",
       "          [-0.07407517,  0.2002001 ,  0.11488745],\n",
       "          [-0.37007806,  0.11488745,  4.84808139]]),\n",
       "   0.04469373229168624],\n",
       "  [array([[-0.43623345],\n",
       "          [-0.14347801],\n",
       "          [-6.30203158]]),\n",
       "   array([[ 0.06536698, -0.06194351, -0.22122302],\n",
       "          [-0.06194351,  0.40511819,  0.15221756],\n",
       "          [-0.22122302,  0.15221756,  3.63900751]]),\n",
       "   0.06454624199492104],\n",
       "  [array([[ 0.48567791],\n",
       "          [-0.29073138],\n",
       "          [ 7.13954624]]),\n",
       "   array([[ 0.10895302, -0.04657948, -0.36771431],\n",
       "          [-0.04657948,  0.15712078, -0.16192357],\n",
       "          [-0.36771431, -0.16192357,  7.24201668]]),\n",
       "   0.03541534711930391],\n",
       "  [array([[-0.26074067],\n",
       "          [-0.69465772],\n",
       "          [-5.57753666]]),\n",
       "   array([[ 0.06668521, -0.08899592, -0.25535011],\n",
       "          [-0.08899592,  0.55971675,  0.48211444],\n",
       "          [-0.25535011,  0.48211444,  1.91812466]]),\n",
       "   0.06398097526214702],\n",
       "  [array([[ 0.41826063],\n",
       "          [-0.31648209],\n",
       "          [ 4.70282201]]),\n",
       "   array([[ 2.73046767e-02,  1.70563809e-03, -1.21938513e-01],\n",
       "          [ 1.70563809e-03,  3.42734372e-02, -2.13347902e-01],\n",
       "          [-1.21938513e-01, -2.13347902e-01,  3.52195372e+00]]),\n",
       "   0.00610334444753341]],\n",
       " [0.44,\n",
       "  array([[ 0.16552114],\n",
       "         [ 0.10048278],\n",
       "         [ 0.21786748],\n",
       "         [ 0.08171817],\n",
       "         [ 0.27554385],\n",
       "         [-0.04625279]]),\n",
       "  [array([[0.52199882],\n",
       "          [0.89956154],\n",
       "          [0.84957114]]),\n",
       "   array([[ 0.04282121, -0.0307138 , -0.07206293],\n",
       "          [-0.0307138 ,  0.07013029,  0.15042933],\n",
       "          [-0.07206293,  0.15042933,  0.32470122]]),\n",
       "   0.09025530539399561],\n",
       "  [array([[0.47344187],\n",
       "          [1.01342507],\n",
       "          [1.09758327]]),\n",
       "   array([[ 0.0662332 , -0.03109618, -0.07816329],\n",
       "          [-0.03109618,  0.09577672,  0.20604369],\n",
       "          [-0.07816329,  0.20604369,  0.44623192]]),\n",
       "   0.09841196455452969],\n",
       "  [array([[0.14869076],\n",
       "          [1.1532601 ],\n",
       "          [1.46041168]]),\n",
       "   array([[ 0.0386475 , -0.05307309, -0.11711122],\n",
       "          [-0.05307309,  0.16227106,  0.34607729],\n",
       "          [-0.11711122,  0.34607729,  0.73956928]]),\n",
       "   0.08929591713819854],\n",
       "  [array([[-0.38768935],\n",
       "          [ 1.60909494],\n",
       "          [ 2.56659544]]),\n",
       "   array([[ 0.11236016, -0.13254409, -0.29947482],\n",
       "          [-0.13254409,  0.50698784,  1.07526102],\n",
       "          [-0.29947482,  1.07526102,  2.28581427]]),\n",
       "   0.031187783702548537],\n",
       "  [array([[0.04937889],\n",
       "          [1.25510066],\n",
       "          [1.70166591]]),\n",
       "   array([[ 0.04781356, -0.03172462, -0.07591917],\n",
       "          [-0.03172462,  0.18186628,  0.38111378],\n",
       "          [-0.07591917,  0.38111378,  0.80157149]]),\n",
       "   0.07977522407412985],\n",
       "  [array([[-0.469996  ],\n",
       "          [ 1.6651137 ],\n",
       "          [ 2.70941404]]),\n",
       "   array([[ 0.10156055, -0.14050122, -0.31299826],\n",
       "          [-0.14050122,  0.55824802,  1.18007423],\n",
       "          [-0.31299826,  1.18007423,  2.49949287]]),\n",
       "   0.029257825656959398],\n",
       "  [array([[0.16654583],\n",
       "          [0.93198111],\n",
       "          [1.07621196]]),\n",
       "   array([[ 0.01064605, -0.01535993, -0.03281312],\n",
       "          [-0.01535993,  0.09453275,  0.17733725],\n",
       "          [-0.03281312,  0.17733725,  0.33620908]]),\n",
       "   0.021230259735123987]]]"
      ]
     },
     "execution_count": 3,
     "metadata": {},
     "output_type": "execute_result"
    }
   ],
   "source": [
    "args_result"
   ]
  },
  {
   "cell_type": "code",
   "execution_count": 4,
   "id": "7d258230",
   "metadata": {},
   "outputs": [],
   "source": [
    "# for i in range(100):\n",
    "#     print(get_hat_rho_l(test_dataset[i],*args_result))\n",
    "mode_predict_result = [get_hat_rho_l(test_dataset[i],*args_result).reshape(2) for i in range(100)]\n",
    "mode_true = [test_dataset[i][\"mode\"] for i in range(100)]"
   ]
  },
  {
   "cell_type": "code",
   "execution_count": 5,
   "id": "e43dc369",
   "metadata": {},
   "outputs": [
    {
     "data": {
      "text/plain": [
       "[array([0., 1.]),\n",
       " array([1., 0.]),\n",
       " array([0., 1.]),\n",
       " array([1., 0.]),\n",
       " array([1., 0.]),\n",
       " array([1.00000000e+00, 3.07518759e-39]),\n",
       " array([1., 0.]),\n",
       " array([1., 0.]),\n",
       " array([1., 0.]),\n",
       " array([1., 0.]),\n",
       " array([1., 0.]),\n",
       " array([1., 0.]),\n",
       " array([1., 0.]),\n",
       " array([1., 0.]),\n",
       " array([0., 1.]),\n",
       " array([0., 1.]),\n",
       " array([0., 1.]),\n",
       " array([0., 1.]),\n",
       " array([0., 1.]),\n",
       " array([0., 1.]),\n",
       " array([0., 1.]),\n",
       " array([0., 1.]),\n",
       " array([0., 1.]),\n",
       " array([0., 1.]),\n",
       " array([1., 0.]),\n",
       " array([1., 0.]),\n",
       " array([0.30722052, 0.69277948]),\n",
       " array([0., 1.]),\n",
       " array([1., 0.]),\n",
       " array([0., 1.]),\n",
       " array([0., 1.]),\n",
       " array([1., 0.]),\n",
       " array([1., 0.]),\n",
       " array([1., 0.]),\n",
       " array([0., 1.]),\n",
       " array([1.00000000e+00, 4.80722071e-10]),\n",
       " array([7.32076993e-24, 1.00000000e+00]),\n",
       " array([1., 0.]),\n",
       " array([0., 1.]),\n",
       " array([0., 1.]),\n",
       " array([0., 1.]),\n",
       " array([1., 0.]),\n",
       " array([0., 1.]),\n",
       " array([1., 0.]),\n",
       " array([0., 1.]),\n",
       " array([0., 1.]),\n",
       " array([1.0000000e+00, 8.8152978e-33]),\n",
       " array([1., 0.]),\n",
       " array([0., 1.]),\n",
       " array([1., 0.]),\n",
       " array([1., 0.]),\n",
       " array([9.99999987e-01, 1.25438625e-08]),\n",
       " array([1., 0.]),\n",
       " array([1.0000000e+00, 9.0568502e-21]),\n",
       " array([1., 0.]),\n",
       " array([0., 1.]),\n",
       " array([1., 0.]),\n",
       " array([1., 0.]),\n",
       " array([1.00000000e+00, 1.14170976e-19]),\n",
       " array([1., 0.]),\n",
       " array([0., 1.]),\n",
       " array([0., 1.]),\n",
       " array([0., 1.]),\n",
       " array([0., 1.]),\n",
       " array([0., 1.]),\n",
       " array([1., 0.]),\n",
       " array([0., 1.]),\n",
       " array([0., 1.]),\n",
       " array([0., 1.]),\n",
       " array([1., 0.]),\n",
       " array([0., 1.]),\n",
       " array([0., 1.]),\n",
       " array([0., 1.]),\n",
       " array([0., 1.]),\n",
       " array([0., 1.]),\n",
       " array([1., 0.]),\n",
       " array([0., 1.]),\n",
       " array([0., 1.]),\n",
       " array([1., 0.]),\n",
       " array([1., 0.]),\n",
       " array([0., 1.]),\n",
       " array([0., 1.]),\n",
       " array([1.00000000e+00, 3.14663054e-15]),\n",
       " array([9.99999999e-01, 7.65413617e-10]),\n",
       " array([0., 1.]),\n",
       " array([1., 0.]),\n",
       " array([0., 1.]),\n",
       " array([9.99999977e-01, 2.33466056e-08]),\n",
       " array([0., 1.]),\n",
       " array([1., 0.]),\n",
       " array([1.00000000e+00, 2.02502537e-42]),\n",
       " array([0., 1.]),\n",
       " array([0., 1.]),\n",
       " array([0., 1.]),\n",
       " array([0., 1.]),\n",
       " array([0., 1.]),\n",
       " array([0., 1.]),\n",
       " array([1., 0.]),\n",
       " array([0., 1.]),\n",
       " array([0., 1.])]"
      ]
     },
     "execution_count": 5,
     "metadata": {},
     "output_type": "execute_result"
    }
   ],
   "source": [
    "mode_predict_result"
   ]
  },
  {
   "cell_type": "code",
   "execution_count": 7,
   "id": "f26428e8",
   "metadata": {},
   "outputs": [
    {
     "name": "stdout",
     "output_type": "stream",
     "text": [
      "100 0\n"
     ]
    }
   ],
   "source": [
    "corr = 0\n",
    "err = 0\n",
    "for i in range(100):\n",
    "    if np.sum(mode_predict_result[i] - mode_true [i]) < 0.005:\n",
    "        corr+=1\n",
    "    else:\n",
    "        err+=1\n",
    "print(corr,err)\n",
    "    "
   ]
  },
  {
   "cell_type": "code",
   "execution_count": 8,
   "id": "3b0fdec8",
   "metadata": {},
   "outputs": [],
   "source": [
    "def mode_para_selection(instance_q,dk_list,*args):\n",
    "    \"\"\"\n",
    "    *args [pi,w,[mu,sigma],[mu,sigma]],[pi,w,[mu,sigma],[mu,sigma]]\n",
    "    return [pi,w,mu,...]\n",
    "    \"\"\"\n",
    "    mode_q = np.argmax(get_hat_rho_l(instance_q,*args))\n",
    "    selected_args = []\n",
    "    args_q = args[mode_q]\n",
    "    selected_args.append(dk_list[mode_q]) # dk\n",
    "    selected_args.append(args_q[1]) # wk\n",
    "    #selected_args.appned(args_q[1])\n",
    "    for idx in range(3):\n",
    "        selected_args.append(args_q[-1][idx])\n",
    "    return selected_args\n",
    "\n",
    "select_args = mode_para_selection(test_dataset[0],[1,1], *args_result)   "
   ]
  },
  {
   "cell_type": "code",
   "execution_count": 9,
   "id": "4b12b371",
   "metadata": {},
   "outputs": [],
   "source": [
    "def get_post_Sigma_q_and_mu_q(instance_q,*args):\n",
    "    \"\"\"\n",
    "    args:select_args,[hat_D,w,mu,...]\n",
    "    \"\"\"\n",
    "    [hat_D,w,mu_Gamma,C_Gamma,sigma_2] = args\n",
    "    x_q = instance_q[\"input\"]\n",
    "    Phi_q = instance_q[\"Phi_l\"]\n",
    "    Sigma_q = np.linalg.inv((Phi_q.T @ Phi_q) / sigma_2 + np.linalg.inv(C_Gamma))\n",
    "    mu_q = Sigma_q @ ((Phi_q.T @ x_q @ w) / sigma_2 + np.linalg.inv(C_Gamma) @ mu_Gamma)\n",
    "    return mu_q, Sigma_q\n",
    "mu_q,Sigma_q = get_post_Sigma_q_and_mu_q(test_dataset[0],*select_args)"
   ]
  },
  {
   "cell_type": "code",
   "execution_count": 10,
   "id": "fda68de7",
   "metadata": {},
   "outputs": [],
   "source": [
    "import scipy"
   ]
  },
  {
   "cell_type": "code",
   "execution_count": 11,
   "id": "a5d4e70a",
   "metadata": {},
   "outputs": [
    {
     "data": {
      "text/plain": [
       "0.4551764720681437"
      ]
     },
     "execution_count": 11,
     "metadata": {},
     "output_type": "execute_result"
    }
   ],
   "source": [
    "def get_CDF_t(instance_q,t,*args):\n",
    "    n_q = len(instance_q[\"input\"])\n",
    "    Phi_q = instance_q[\"Phi_l\"]\n",
    "    [hat_D,w,mu_Gamma,C_Gamma,sigma_2] = args\n",
    "    t_nl_t = n_q + t\n",
    "    Phi_t_nl_t = np.array([1, t_nl_t / 500, (t_nl_t / 500) * (t_nl_t / 500)], \n",
    "                          dtype=np.float64).reshape(1,3)\n",
    "    mu_q, Sigma_q = get_post_Sigma_q_and_mu_q(instance_q,*args)\n",
    "    mu_t_nl_t_0 = Phi_q[-1] @ mu_q\n",
    "    mu_t_nl_t = Phi_t_nl_t @ mu_q\n",
    "    sigma_t_nl_t = Phi_t_nl_t @ Sigma_q @ Phi_t_nl_t.T\n",
    "    if mu_t_nl_t_0<hat_D:\n",
    "        A = ((hat_D - mu_t_nl_t) / (np.sqrt(sigma_t_nl_t))).item()\n",
    "    else :\n",
    "        A = ((-hat_D + mu_t_nl_t) / (np.sqrt(sigma_t_nl_t))).item()\n",
    "    Phi_t = 1 - scipy.stats.norm.cdf(A)\n",
    "    return Phi_t\n",
    "\n",
    "get_CDF_t(test_dataset[0],69, *select_args)    \n",
    "    "
   ]
  },
  {
   "cell_type": "code",
   "execution_count": 30,
   "id": "a6a9c326",
   "metadata": {},
   "outputs": [
    {
     "data": {
      "text/plain": [
       "71"
      ]
     },
     "execution_count": 30,
     "metadata": {},
     "output_type": "execute_result"
    }
   ],
   "source": [
    "def get_single_RUL(instance_q,*args):\n",
    "    \"\"\"\n",
    "    # *args:[pi,w,[mu,sigma],[mu,sigma]],[pi,w,[mu,sigma],[mu,sigma]] previous results\n",
    "    select_args [hat_D,w,mu,...]\n",
    "    \"\"\"\n",
    "    # select_args = mode_para_selection(instance_q,dk_list, *args)\n",
    "    box = []\n",
    "    for t in range(500):\n",
    "        A = get_CDF_t(instance_q,t,*args)\n",
    "        B = get_CDF_t(instance_q,0,*args)\n",
    "        C = (A-B)/(1-B)\n",
    "        D = abs(C-0.5)\n",
    "        box.append(D)\n",
    "    RUL_q = box.index(min(box)) + 1\n",
    "    return RUL_q\n",
    "\n",
    "get_single_RUL(test_dataset[0],*select_args)\n",
    "    "
   ]
  },
  {
   "cell_type": "code",
   "execution_count": 31,
   "id": "aeb16dc5",
   "metadata": {},
   "outputs": [],
   "source": [
    "def get_RUL(instance, dk_list, *args):\n",
    "    \"\"\"\n",
    "    *args:[pi,w,[mu,sigma],[mu,sigma]],[pi,w,[mu,sigma],[mu,sigma]] previous results\n",
    "    \"\"\"\n",
    "    length = len(instance)\n",
    "    RUL = []\n",
    "    for idx in tqdm(range(length)):\n",
    "        select_args = mode_para_selection(instance[idx],dk_list, *args)\n",
    "        RUL_q = get_single_RUL(instance[idx], *select_args)\n",
    "        RUL.append(RUL_q)\n",
    "    return np.array(RUL)"
   ]
  },
  {
   "cell_type": "code",
   "execution_count": 32,
   "id": "20bfef55",
   "metadata": {},
   "outputs": [
    {
     "name": "stderr",
     "output_type": "stream",
     "text": [
      "100%|████████████████████████████████████████████████████████████████████████████████| 100/100 [00:50<00:00,  1.99it/s]\n"
     ]
    },
    {
     "data": {
      "text/plain": [
       "array([ 71,  54,  84, 108, 500, 119,  55,  56,  56,  87,  76,  94, 106,\n",
       "        39, 231,  94, 500, 500, 216, 135,  23, 297, 256,   8,  50,   9,\n",
       "       139, 250, 108, 212, 303,  50,  81,  68, 166, 155, 225,  27,   1,\n",
       "        88, 246, 112, 335,  60, 268,  13, 122,  76,   1,  16,  88, 155,\n",
       "        66, 141,  56, 116, 111,  43,  49, 115, 269, 189, 322,  77, 228,\n",
       "       104, 221, 500, 298,  82,  79,  62, 213, 342,  74,  19, 167,  41,\n",
       "        22, 500,  38,  11, 165,  84, 103,  36, 150, 149,  99,  53, 115,\n",
       "        23, 163,   5, 329, 500, 242,  24,   5,  91])"
      ]
     },
     "execution_count": 32,
     "metadata": {},
     "output_type": "execute_result"
    }
   ],
   "source": [
    "get_RUL(test_dataset,[1,1],*args_result)"
   ]
  },
  {
   "cell_type": "code",
   "execution_count": 16,
   "id": "c03dbd55",
   "metadata": {},
   "outputs": [
    {
     "data": {
      "text/plain": [
       "array([ 44,  51,  27, 120, 101,  99,  71,  55,  55,  66,  77, 115, 115,\n",
       "        31, 108,  56, 136, 132,  85,  56,  18, 119,  78,   9,  58,  11,\n",
       "        88, 144, 124,  89,  79,  55,  71,  65,  87, 137, 145,  22,   8,\n",
       "        41, 131, 115, 128,  69, 111,   7, 137,  55, 135,  11,  78, 120,\n",
       "        87,  87,  55,  93,  88,  40,  49, 128, 129,  58, 117,  28, 115,\n",
       "        87,  92, 103, 100,  63,  35,  45,  99, 117,  45,  27,  86,  20,\n",
       "        18, 133,  15,   6, 145, 104,  56,  25,  68, 144,  41,  51,  81,\n",
       "        14,  67,  10, 127, 113, 123,  17,   8,  28], dtype=int64)"
      ]
     },
     "execution_count": 16,
     "metadata": {},
     "output_type": "execute_result"
    }
   ],
   "source": [
    "#RUL\n",
    "path = DATA_PATH+'RUL.csv'\n",
    "RUL_frame = pd.read_csv(path, header=None)\n",
    "RUL = RUL_frame.values[:, 0]\n",
    "RUL"
   ]
  },
  {
   "cell_type": "code",
   "execution_count": null,
   "id": "af3fede3",
   "metadata": {},
   "outputs": [],
   "source": []
  },
  {
   "cell_type": "code",
   "execution_count": 66,
   "id": "77f694f0",
   "metadata": {},
   "outputs": [],
   "source": [
    "args = args_result\n",
    "instance_q = test_dataset[1]\n",
    "dk_list = [-1,1]\n",
    "select_args = mode_para_selection(instance_q,dk_list, *args)\n",
    "# get_post_Sigma_q_and_mu_q(instance_q,*select_args)\n",
    "n_q = len(instance_q[\"input\"])\n",
    "[hat_D,w,mu_Gamma,C_Gamma,sigma_2] = select_args\n",
    "t = 0\n",
    "t_nl_t = n_q + t\n",
    "Phi_t_nl_t = np.array([1, t_nl_t / 500, (t_nl_t / 500) * (t_nl_t / 500)], \n",
    "                      dtype=np.float64).reshape(1,3)\n",
    "mu_q, Sigma_q = get_post_Sigma_q_and_mu_q(instance_q,*select_args)\n",
    "mu_t_nl_t = Phi_t_nl_t @ mu_q\n",
    "sigma_t_nl_t = Phi_t_nl_t @ Sigma_q @ Phi_t_nl_t.T\n",
    "if mu_t_nl_t_0<hat_D:\n",
    "    A = ((hat_D - mu_t_nl_t) / (np.sqrt(sigma_t_nl_t))).item()\n",
    "else :\n",
    "    A = ((-hat_D + mu_t_nl_t) / (np.sqrt(sigma_t_nl_t))).item()\n",
    "Phi_t = 1 - scipy.stats.norm.cdf(A)\n",
    "# get_CDF_t(instance_q,0,*select_args)\n"
   ]
  },
  {
   "cell_type": "code",
   "execution_count": 68,
   "id": "7b48f9da",
   "metadata": {},
   "outputs": [
    {
     "data": {
      "text/plain": [
       "(array([[-0.68126908]]), 1.0)"
      ]
     },
     "execution_count": 68,
     "metadata": {},
     "output_type": "execute_result"
    }
   ],
   "source": [
    "mu_t_nl_t,Phi_t "
   ]
  },
  {
   "cell_type": "code",
   "execution_count": 61,
   "id": "e80076ed",
   "metadata": {},
   "outputs": [
    {
     "data": {
      "text/plain": [
       "[[0.56,\n",
       "  array([[-0.14107795],\n",
       "         [-0.07269193],\n",
       "         [-0.1833172 ],\n",
       "         [-0.0283842 ],\n",
       "         [-0.28645507],\n",
       "         [ 0.01634209]]),\n",
       "  [array([[ 0.80116542],\n",
       "          [-0.49698436],\n",
       "          [ 6.19754031]]),\n",
       "   array([[ 0.13931929, -0.03756375, -0.36207992],\n",
       "          [-0.03756375,  0.14939987, -0.28534003],\n",
       "          [-0.36207992, -0.28534003,  6.09838779]]),\n",
       "   0.0655713138859101],\n",
       "  [array([[ 0.82468967],\n",
       "          [-0.42851781],\n",
       "          [ 5.50735066]]),\n",
       "   array([[ 0.11349203,  0.03677791, -0.56846498],\n",
       "          [ 0.03677791,  0.16090321, -0.50379678],\n",
       "          [-0.56846498, -0.50379678,  6.20848893]]),\n",
       "   0.0646515251422192],\n",
       "  [array([[ 0.58496356],\n",
       "          [-0.37879269],\n",
       "          [ 7.09347277]]),\n",
       "   array([[ 0.11858449, -0.06840603, -0.35377243],\n",
       "          [-0.06840603,  0.2823017 , -0.6051624 ],\n",
       "          [-0.35377243, -0.6051624 ,  8.35371785]]),\n",
       "   0.04456603529665039],\n",
       "  [array([[-0.46930976],\n",
       "          [ 0.39135126],\n",
       "          [-7.80706822]]),\n",
       "   array([[ 0.06349323, -0.04315163, -0.21440257],\n",
       "          [-0.04315163,  0.29688317, -0.59042848],\n",
       "          [-0.21440257, -0.59042848,  9.17997398]]),\n",
       "   0.06423934177560771],\n",
       "  [array([[ 0.49803736],\n",
       "          [-0.48554233],\n",
       "          [ 7.67965603]]),\n",
       "   array([[ 0.10841096, -0.04503185, -0.3466869 ],\n",
       "          [-0.04503185,  0.24064896, -0.80185747],\n",
       "          [-0.3466869 , -0.80185747, 10.29401566]]),\n",
       "   0.03535496294973366],\n",
       "  [array([[-0.31840544],\n",
       "          [ 0.24553883],\n",
       "          [-8.23799602]]),\n",
       "   array([[ 0.06335548, -0.0536533 , -0.23423455],\n",
       "          [-0.0536533 ,  0.19459193, -0.44823071],\n",
       "          [-0.23423455, -0.44823071, 10.98123803]]),\n",
       "   0.06316314394430286],\n",
       "  [array([[-0.41630626],\n",
       "          [ 0.33502575],\n",
       "          [-4.79720308]]),\n",
       "   array([[ 2.79599332e-02,  6.20189105e-04, -1.20140316e-01],\n",
       "          [ 6.20189105e-04,  4.67626130e-02, -2.68373778e-01],\n",
       "          [-1.20140316e-01, -2.68373778e-01,  3.79102517e+00]]),\n",
       "   0.006248188961802703]],\n",
       " [0.44,\n",
       "  array([[ 0.15565814],\n",
       "         [ 0.07593655],\n",
       "         [ 0.20054707],\n",
       "         [ 0.10374827],\n",
       "         [ 0.33426328],\n",
       "         [-0.06960547]]),\n",
       "  [array([[0.52222537],\n",
       "          [0.89821072],\n",
       "          [0.85122884]]),\n",
       "   array([[ 0.04282161, -0.03067351, -0.07208989],\n",
       "          [-0.03067351,  0.06989034,  0.15027312],\n",
       "          [-0.07208989,  0.15027312,  0.32512639]]),\n",
       "   0.09024012198874501],\n",
       "  [array([[0.4736462 ],\n",
       "          [1.01226528],\n",
       "          [1.09844528]]),\n",
       "   array([[ 0.06619538, -0.03102167, -0.07820553],\n",
       "          [-0.03102167,  0.09580935,  0.20584857],\n",
       "          [-0.07820553,  0.20584857,  0.44536049]]),\n",
       "   0.0983967980333843],\n",
       "  [array([[0.14892766],\n",
       "          [1.15097997],\n",
       "          [1.46359804]]),\n",
       "   array([[ 0.03861398, -0.05302095, -0.11712286],\n",
       "          [-0.05302095,  0.16241148,  0.34604937],\n",
       "          [-0.11712286,  0.34604937,  0.7389161 ]]),\n",
       "   0.08926360582511197],\n",
       "  [array([[-0.38823994],\n",
       "          [ 1.61174357],\n",
       "          [ 2.56644143]]),\n",
       "   array([[ 0.1124032 , -0.1319682 , -0.29931823],\n",
       "          [-0.1319682 ,  0.4989077 ,  1.07443798],\n",
       "          [-0.29931823,  1.07443798,  2.31789114]]),\n",
       "   0.03125490951532476],\n",
       "  [array([[0.04980641],\n",
       "          [1.25193111],\n",
       "          [1.70591454]]),\n",
       "   array([[ 0.04777851, -0.03169623, -0.07621032],\n",
       "          [-0.03169623,  0.18268025,  0.38159562],\n",
       "          [-0.07621032,  0.38159562,  0.80032185]]),\n",
       "   0.0797170373660145],\n",
       "  [array([[-0.47060074],\n",
       "          [ 1.6680338 ],\n",
       "          [ 2.70913611]]),\n",
       "   array([[ 0.10155133, -0.13958418, -0.31314567],\n",
       "          [-0.13958418,  0.54887785,  1.17906323],\n",
       "          [-0.31314567,  1.17906323,  2.5366462 ]]),\n",
       "   0.02932524495626066],\n",
       "  [array([[0.15560787],\n",
       "          [0.92638818],\n",
       "          [1.13664209]]),\n",
       "   array([[ 0.01153408, -0.01667174, -0.03452603],\n",
       "          [-0.01667174,  0.10767104,  0.1884871 ],\n",
       "          [-0.03452603,  0.1884871 ,  0.33585681]]),\n",
       "   0.022558227520752268]]]"
      ]
     },
     "execution_count": 61,
     "metadata": {},
     "output_type": "execute_result"
    }
   ],
   "source": [
    "args "
   ]
  },
  {
   "cell_type": "code",
   "execution_count": null,
   "id": "cf49c9ab",
   "metadata": {},
   "outputs": [],
   "source": []
  }
 ],
 "metadata": {
  "kernelspec": {
   "display_name": "Python 3",
   "language": "python",
   "name": "python3"
  },
  "language_info": {
   "codemirror_mode": {
    "name": "ipython",
    "version": 3
   },
   "file_extension": ".py",
   "mimetype": "text/x-python",
   "name": "python",
   "nbconvert_exporter": "python",
   "pygments_lexer": "ipython3",
   "version": "3.8.8"
  }
 },
 "nbformat": 4,
 "nbformat_minor": 5
}
